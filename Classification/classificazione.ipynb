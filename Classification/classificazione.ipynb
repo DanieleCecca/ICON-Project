{
 "cells": [
  {
   "cell_type": "markdown",
   "metadata": {},
   "source": [
    "# Classificazione dell'abitabilità degli exoplanets\n"
   ]
  },
  {
   "cell_type": "markdown",
   "metadata": {},
   "source": [
    "Confronto tra diversi *modelli di apprendimento supervisionato* per la classificazione di esopianeti scoperti durante le diverse missioni spaziali.\n",
    "\n",
    "L'obbiettivo è sicuramente quello di trovare il migliore modello di classifficazione in grado di deteminare la classe di abitibilità dell'esopianeta sottoposto al modello, sebbene i dati a nostra disposizione non sono sicuramente dei migliori.\n",
    "\n",
    "Questo sistema inoltre si pone come modulo complementare al sistema più ampio progettato per l'esame di ingeneria della conoscenza, il quale permetterà di agire anche con un sistema esperto.\n",
    "\n",
    "I modelli valutati in questo modulo sono i seguenti:\n",
    "- **Decision**\n",
    "- **Naive Bayes**\n",
    "- **Random Forest**\n",
    "- **Gradiend Boost**\n",
    "- **Support vector machine**"
   ]
  },
  {
   "cell_type": "markdown",
   "metadata": {},
   "source": [
    "Importo i moduli e le librerie di interesse, utili per la realizzazione del sistema."
   ]
  },
  {
   "cell_type": "code",
   "execution_count": 379,
   "metadata": {},
   "outputs": [],
   "source": [
    "# Import libraries\n",
    "import pandas as pd\n",
    "import numpy as np\n",
    "import matplotlib.pyplot as plt\n",
    "import seaborn as sns\n",
    "\n",
    "from sklearn.impute import SimpleImputer\n",
    "\n",
    "from sklearn.preprocessing import OrdinalEncoder\n",
    "from sklearn.preprocessing import OneHotEncoder\n",
    "\n",
    "from sklearn.metrics import confusion_matrix\n",
    "from sklearn.metrics import ConfusionMatrixDisplay \n",
    "import matplotlib.pyplot as plt\n",
    "from sklearn.metrics import PrecisionRecallDisplay\n",
    "from sklearn.metrics import precision_recall_curve\n",
    "\n",
    "\n",
    "\n",
    "from sklearn.tree import DecisionTreeClassifier, plot_tree\n",
    "from sklearn.naive_bayes import GaussianNB\n",
    "from sklearn.ensemble import RandomForestClassifier\n",
    "from sklearn.ensemble import GradientBoostingClassifier\n",
    "from sklearn.svm import SVC\n",
    "\n",
    "from sklearn.model_selection import train_test_split, GridSearchCV, StratifiedKFold\n",
    "from sklearn.preprocessing import MinMaxScaler\n",
    "\n",
    "from imblearn.over_sampling import SMOTE, ADASYN\n",
    "from imblearn.pipeline import Pipeline as imbpipeline\n",
    "\n",
    "from sklearn.metrics import precision_score\n",
    "from sklearn.metrics import recall_score\n",
    "from sklearn.metrics import f1_score\n",
    "from sklearn.metrics import accuracy_score\n",
    "from sklearn.metrics import roc_auc_score\n",
    "from sklearn.metrics import matthews_corrcoef\n",
    "from imblearn.metrics import geometric_mean_score\n",
    "\n",
    "\n"
   ]
  },
  {
   "cell_type": "markdown",
   "metadata": {},
   "source": [
    "## Analisi Esplorativa & Preparazione dei Dati"
   ]
  },
  {
   "cell_type": "markdown",
   "metadata": {},
   "source": [
    "Carichiamo il dataset in locale."
   ]
  },
  {
   "cell_type": "code",
   "execution_count": 380,
   "metadata": {},
   "outputs": [
    {
     "data": {
      "text/html": [
       "<div>\n",
       "<style scoped>\n",
       "    .dataframe tbody tr th:only-of-type {\n",
       "        vertical-align: middle;\n",
       "    }\n",
       "\n",
       "    .dataframe tbody tr th {\n",
       "        vertical-align: top;\n",
       "    }\n",
       "\n",
       "    .dataframe thead th {\n",
       "        text-align: right;\n",
       "    }\n",
       "</style>\n",
       "<table border=\"1\" class=\"dataframe\">\n",
       "  <thead>\n",
       "    <tr style=\"text-align: right;\">\n",
       "      <th></th>\n",
       "      <th>P. Name</th>\n",
       "      <th>P. Name Kepler</th>\n",
       "      <th>P. Name KOI</th>\n",
       "      <th>P. Zone Class</th>\n",
       "      <th>P. Mass Class</th>\n",
       "      <th>P. Composition Class</th>\n",
       "      <th>P. Atmosphere Class</th>\n",
       "      <th>P. Habitable Class</th>\n",
       "      <th>P. Min Mass (EU)</th>\n",
       "      <th>P. Mass (EU)</th>\n",
       "      <th>P. Max Mass (EU)</th>\n",
       "      <th>P. Radius (EU)</th>\n",
       "      <th>P. Density (EU)</th>\n",
       "      <th>P. Gravity (EU)</th>\n",
       "      <th>P. Esc Vel (EU)</th>\n",
       "      <th>P. SFlux Min (EU)</th>\n",
       "      <th>P. SFlux Mean (EU)</th>\n",
       "      <th>P. SFlux Max (EU)</th>\n",
       "      <th>P. Teq Min (K)</th>\n",
       "      <th>P. Teq Mean (K)</th>\n",
       "      <th>P. Teq Max (K)</th>\n",
       "      <th>P. Ts Min (K)</th>\n",
       "      <th>P. Ts Mean (K)</th>\n",
       "      <th>P. Ts Max (K)</th>\n",
       "      <th>P. Surf Press (EU)</th>\n",
       "      <th>P. Mag</th>\n",
       "      <th>P. Appar Size (deg)</th>\n",
       "      <th>P. Period (days)</th>\n",
       "      <th>P. Sem Major Axis (AU)</th>\n",
       "      <th>P. Eccentricity</th>\n",
       "      <th>P. Mean Distance (AU)</th>\n",
       "      <th>P. Inclination (deg)</th>\n",
       "      <th>P. Omega (deg)</th>\n",
       "      <th>S. Name</th>\n",
       "      <th>S. Name HD</th>\n",
       "      <th>S. Name HIP</th>\n",
       "      <th>S. Constellation</th>\n",
       "      <th>S. Type</th>\n",
       "      <th>S. Mass (SU)</th>\n",
       "      <th>S. Radius (SU)</th>\n",
       "      <th>S. Teff (K)</th>\n",
       "      <th>S. Luminosity (SU)</th>\n",
       "      <th>S. [Fe/H]</th>\n",
       "      <th>S. Age (Gyrs)</th>\n",
       "      <th>S. Appar Mag</th>\n",
       "      <th>S. Distance (pc)</th>\n",
       "      <th>S. RA (hrs)</th>\n",
       "      <th>S. DEC (deg)</th>\n",
       "      <th>S. Mag from Planet</th>\n",
       "      <th>S. Size from Planet (deg)</th>\n",
       "      <th>S. No. Planets</th>\n",
       "      <th>S. No. Planets HZ</th>\n",
       "      <th>S. Hab Zone Min (AU)</th>\n",
       "      <th>S. Hab Zone Max (AU)</th>\n",
       "      <th>P. HZD</th>\n",
       "      <th>P. HZC</th>\n",
       "      <th>P. HZA</th>\n",
       "      <th>P. HZI</th>\n",
       "      <th>P. SPH</th>\n",
       "      <th>P. Int ESI</th>\n",
       "      <th>P. Surf ESI</th>\n",
       "      <th>P. ESI</th>\n",
       "      <th>S. HabCat</th>\n",
       "      <th>P. Habitable</th>\n",
       "      <th>P. Hab Moon</th>\n",
       "      <th>P. Confirmed</th>\n",
       "      <th>P. Disc. Method</th>\n",
       "      <th>P. Disc. Year</th>\n",
       "      <th>Unnamed: 68</th>\n",
       "    </tr>\n",
       "  </thead>\n",
       "  <tbody>\n",
       "    <tr>\n",
       "      <th>0</th>\n",
       "      <td>1RXS 1609 b</td>\n",
       "      <td>NaN</td>\n",
       "      <td>NaN</td>\n",
       "      <td>Cold</td>\n",
       "      <td>Jovian</td>\n",
       "      <td>gas</td>\n",
       "      <td>hydrogen-rich</td>\n",
       "      <td>non-habitable</td>\n",
       "      <td>NaN</td>\n",
       "      <td>4451.16</td>\n",
       "      <td>NaN</td>\n",
       "      <td>19.04</td>\n",
       "      <td>0.64</td>\n",
       "      <td>12.28</td>\n",
       "      <td>15.29</td>\n",
       "      <td>4.08E-06</td>\n",
       "      <td>4.08E-06</td>\n",
       "      <td>4.08E-06</td>\n",
       "      <td>11.4</td>\n",
       "      <td>11.4</td>\n",
       "      <td>11.4</td>\n",
       "      <td>NaN</td>\n",
       "      <td>NaN</td>\n",
       "      <td>NaN</td>\n",
       "      <td>2870.4</td>\n",
       "      <td>-10.06</td>\n",
       "      <td>36.81</td>\n",
       "      <td>NaN</td>\n",
       "      <td>330.0</td>\n",
       "      <td>0.0</td>\n",
       "      <td>330.0</td>\n",
       "      <td>NaN</td>\n",
       "      <td>0.0</td>\n",
       "      <td>1RXS1609</td>\n",
       "      <td>NaN</td>\n",
       "      <td>NaN</td>\n",
       "      <td>Sco</td>\n",
       "      <td>K7V</td>\n",
       "      <td>0.73</td>\n",
       "      <td>1.35</td>\n",
       "      <td>4060.0</td>\n",
       "      <td>0.444285</td>\n",
       "      <td>NaN</td>\n",
       "      <td>0.011</td>\n",
       "      <td>NaN</td>\n",
       "      <td>145.0</td>\n",
       "      <td>16.1583</td>\n",
       "      <td>-21.0828</td>\n",
       "      <td>-13.2</td>\n",
       "      <td>0.0022</td>\n",
       "      <td>1</td>\n",
       "      <td>0</td>\n",
       "      <td>0.540</td>\n",
       "      <td>1.362</td>\n",
       "      <td>800.07</td>\n",
       "      <td>23.51</td>\n",
       "      <td>85.62</td>\n",
       "      <td>0.00</td>\n",
       "      <td>NaN</td>\n",
       "      <td>0</td>\n",
       "      <td>0</td>\n",
       "      <td>0.05</td>\n",
       "      <td>0</td>\n",
       "      <td>0</td>\n",
       "      <td>0</td>\n",
       "      <td>1</td>\n",
       "      <td>Imaging</td>\n",
       "      <td>2008</td>\n",
       "      <td>NaN</td>\n",
       "    </tr>\n",
       "    <tr>\n",
       "      <th>1</th>\n",
       "      <td>1SWASP J1407 b</td>\n",
       "      <td>NaN</td>\n",
       "      <td>NaN</td>\n",
       "      <td>Cold</td>\n",
       "      <td>Jovian</td>\n",
       "      <td>gas</td>\n",
       "      <td>hydrogen-rich</td>\n",
       "      <td>non-habitable</td>\n",
       "      <td>6358.80</td>\n",
       "      <td>6358.80</td>\n",
       "      <td>NaN</td>\n",
       "      <td>10.94</td>\n",
       "      <td>4.86</td>\n",
       "      <td>53.12</td>\n",
       "      <td>24.11</td>\n",
       "      <td>0.02166914</td>\n",
       "      <td>0.02166914</td>\n",
       "      <td>0.02166914</td>\n",
       "      <td>97.7</td>\n",
       "      <td>97.7</td>\n",
       "      <td>97.7</td>\n",
       "      <td>NaN</td>\n",
       "      <td>NaN</td>\n",
       "      <td>NaN</td>\n",
       "      <td>30873.8</td>\n",
       "      <td>-18.21</td>\n",
       "      <td>20.91</td>\n",
       "      <td>3725.0</td>\n",
       "      <td>3.9</td>\n",
       "      <td>0.0</td>\n",
       "      <td>3.9</td>\n",
       "      <td>NaN</td>\n",
       "      <td>0.0</td>\n",
       "      <td>1SWASP J1407</td>\n",
       "      <td>NaN</td>\n",
       "      <td>NaN</td>\n",
       "      <td>Cen</td>\n",
       "      <td>K</td>\n",
       "      <td>0.90</td>\n",
       "      <td>0.99</td>\n",
       "      <td>4400.0</td>\n",
       "      <td>0.329588</td>\n",
       "      <td>NaN</td>\n",
       "      <td>0.016</td>\n",
       "      <td>12.4</td>\n",
       "      <td>133.0</td>\n",
       "      <td>14.1300</td>\n",
       "      <td>-39.7619</td>\n",
       "      <td>-22.5</td>\n",
       "      <td>0.1353</td>\n",
       "      <td>1</td>\n",
       "      <td>0</td>\n",
       "      <td>0.461</td>\n",
       "      <td>1.143</td>\n",
       "      <td>9.07</td>\n",
       "      <td>15.30</td>\n",
       "      <td>45.41</td>\n",
       "      <td>0.02</td>\n",
       "      <td>NaN</td>\n",
       "      <td>0</td>\n",
       "      <td>0</td>\n",
       "      <td>0.07</td>\n",
       "      <td>0</td>\n",
       "      <td>0</td>\n",
       "      <td>0</td>\n",
       "      <td>1</td>\n",
       "      <td>Primary Transit</td>\n",
       "      <td>2012</td>\n",
       "      <td>NaN</td>\n",
       "    </tr>\n",
       "    <tr>\n",
       "      <th>2</th>\n",
       "      <td>2M 0103-55(AB) b</td>\n",
       "      <td>NaN</td>\n",
       "      <td>NaN</td>\n",
       "      <td>Cold</td>\n",
       "      <td>Jovian</td>\n",
       "      <td>gas</td>\n",
       "      <td>hydrogen-rich</td>\n",
       "      <td>non-habitable</td>\n",
       "      <td>4133.22</td>\n",
       "      <td>4133.22</td>\n",
       "      <td>NaN</td>\n",
       "      <td>11.40</td>\n",
       "      <td>2.79</td>\n",
       "      <td>31.79</td>\n",
       "      <td>19.04</td>\n",
       "      <td>3.96E-06</td>\n",
       "      <td>3.96E-06</td>\n",
       "      <td>3.96E-06</td>\n",
       "      <td>11.4</td>\n",
       "      <td>11.4</td>\n",
       "      <td>11.4</td>\n",
       "      <td>NaN</td>\n",
       "      <td>NaN</td>\n",
       "      <td>NaN</td>\n",
       "      <td>11520.8</td>\n",
       "      <td>-8.91</td>\n",
       "      <td>21.80</td>\n",
       "      <td>NaN</td>\n",
       "      <td>84.0</td>\n",
       "      <td>0.0</td>\n",
       "      <td>84.0</td>\n",
       "      <td>NaN</td>\n",
       "      <td>0.0</td>\n",
       "      <td>2M 0103-55(AB)</td>\n",
       "      <td>NaN</td>\n",
       "      <td>NaN</td>\n",
       "      <td>Phe</td>\n",
       "      <td>M</td>\n",
       "      <td>0.40</td>\n",
       "      <td>0.38</td>\n",
       "      <td>3840.0</td>\n",
       "      <td>0.027955</td>\n",
       "      <td>NaN</td>\n",
       "      <td>0.030</td>\n",
       "      <td>NaN</td>\n",
       "      <td>47.2</td>\n",
       "      <td>1.0600</td>\n",
       "      <td>-55.2656</td>\n",
       "      <td>-13.2</td>\n",
       "      <td>0.0024</td>\n",
       "      <td>1</td>\n",
       "      <td>0</td>\n",
       "      <td>0.136</td>\n",
       "      <td>0.347</td>\n",
       "      <td>793.67</td>\n",
       "      <td>12.57</td>\n",
       "      <td>107.44</td>\n",
       "      <td>0.00</td>\n",
       "      <td>NaN</td>\n",
       "      <td>0</td>\n",
       "      <td>0</td>\n",
       "      <td>0.06</td>\n",
       "      <td>0</td>\n",
       "      <td>0</td>\n",
       "      <td>0</td>\n",
       "      <td>1</td>\n",
       "      <td>Imaging</td>\n",
       "      <td>2013</td>\n",
       "      <td>NaN</td>\n",
       "    </tr>\n",
       "    <tr>\n",
       "      <th>3</th>\n",
       "      <td>2M 0122-24 b</td>\n",
       "      <td>NaN</td>\n",
       "      <td>NaN</td>\n",
       "      <td>Cold</td>\n",
       "      <td>Jovian</td>\n",
       "      <td>gas</td>\n",
       "      <td>hydrogen-rich</td>\n",
       "      <td>non-habitable</td>\n",
       "      <td>NaN</td>\n",
       "      <td>6358.80</td>\n",
       "      <td>NaN</td>\n",
       "      <td>11.20</td>\n",
       "      <td>4.53</td>\n",
       "      <td>50.69</td>\n",
       "      <td>23.83</td>\n",
       "      <td>1.03E-05</td>\n",
       "      <td>1.03E-05</td>\n",
       "      <td>1.03E-05</td>\n",
       "      <td>14.4</td>\n",
       "      <td>14.4</td>\n",
       "      <td>14.4</td>\n",
       "      <td>NaN</td>\n",
       "      <td>NaN</td>\n",
       "      <td>NaN</td>\n",
       "      <td>28780.4</td>\n",
       "      <td>-9.92</td>\n",
       "      <td>21.41</td>\n",
       "      <td>NaN</td>\n",
       "      <td>52.0</td>\n",
       "      <td>0.0</td>\n",
       "      <td>52.0</td>\n",
       "      <td>NaN</td>\n",
       "      <td>0.0</td>\n",
       "      <td>2M 0122-24</td>\n",
       "      <td>NaN</td>\n",
       "      <td>NaN</td>\n",
       "      <td>Cet</td>\n",
       "      <td>M3.5</td>\n",
       "      <td>0.40</td>\n",
       "      <td>0.38</td>\n",
       "      <td>3840.0</td>\n",
       "      <td>0.027955</td>\n",
       "      <td>NaN</td>\n",
       "      <td>0.120</td>\n",
       "      <td>NaN</td>\n",
       "      <td>36.0</td>\n",
       "      <td>1.3808</td>\n",
       "      <td>-24.6142</td>\n",
       "      <td>-14.2</td>\n",
       "      <td>0.0039</td>\n",
       "      <td>1</td>\n",
       "      <td>0</td>\n",
       "      <td>0.136</td>\n",
       "      <td>0.347</td>\n",
       "      <td>490.45</td>\n",
       "      <td>15.72</td>\n",
       "      <td>119.46</td>\n",
       "      <td>0.00</td>\n",
       "      <td>NaN</td>\n",
       "      <td>0</td>\n",
       "      <td>0</td>\n",
       "      <td>0.08</td>\n",
       "      <td>0</td>\n",
       "      <td>0</td>\n",
       "      <td>0</td>\n",
       "      <td>1</td>\n",
       "      <td>Imaging</td>\n",
       "      <td>2013</td>\n",
       "      <td>NaN</td>\n",
       "    </tr>\n",
       "    <tr>\n",
       "      <th>4</th>\n",
       "      <td>2M 0219-39 b</td>\n",
       "      <td>NaN</td>\n",
       "      <td>NaN</td>\n",
       "      <td>Cold</td>\n",
       "      <td>Jovian</td>\n",
       "      <td>gas</td>\n",
       "      <td>hydrogen-rich</td>\n",
       "      <td>non-habitable</td>\n",
       "      <td>NaN</td>\n",
       "      <td>4419.37</td>\n",
       "      <td>NaN</td>\n",
       "      <td>16.13</td>\n",
       "      <td>1.05</td>\n",
       "      <td>16.99</td>\n",
       "      <td>16.55</td>\n",
       "      <td>2.37E-07</td>\n",
       "      <td>2.37E-07</td>\n",
       "      <td>2.37E-07</td>\n",
       "      <td>5.6</td>\n",
       "      <td>5.6</td>\n",
       "      <td>5.6</td>\n",
       "      <td>NaN</td>\n",
       "      <td>NaN</td>\n",
       "      <td>NaN</td>\n",
       "      <td>4655.6</td>\n",
       "      <td>-6.60</td>\n",
       "      <td>31.03</td>\n",
       "      <td>NaN</td>\n",
       "      <td>156.0</td>\n",
       "      <td>0.0</td>\n",
       "      <td>156.0</td>\n",
       "      <td>NaN</td>\n",
       "      <td>0.0</td>\n",
       "      <td>2M 0219-39</td>\n",
       "      <td>NaN</td>\n",
       "      <td>NaN</td>\n",
       "      <td>For</td>\n",
       "      <td>M6</td>\n",
       "      <td>0.11</td>\n",
       "      <td>0.27</td>\n",
       "      <td>3064.0</td>\n",
       "      <td>0.005765</td>\n",
       "      <td>NaN</td>\n",
       "      <td>NaN</td>\n",
       "      <td>NaN</td>\n",
       "      <td>39.4</td>\n",
       "      <td>2.3228</td>\n",
       "      <td>-39.4231</td>\n",
       "      <td>-10.1</td>\n",
       "      <td>0.0009</td>\n",
       "      <td>1</td>\n",
       "      <td>0</td>\n",
       "      <td>0.062</td>\n",
       "      <td>0.165</td>\n",
       "      <td>3028.82</td>\n",
       "      <td>19.46</td>\n",
       "      <td>133.25</td>\n",
       "      <td>0.00</td>\n",
       "      <td>NaN</td>\n",
       "      <td>0</td>\n",
       "      <td>0</td>\n",
       "      <td>0.06</td>\n",
       "      <td>0</td>\n",
       "      <td>0</td>\n",
       "      <td>0</td>\n",
       "      <td>1</td>\n",
       "      <td>Imaging</td>\n",
       "      <td>2015</td>\n",
       "      <td>NaN</td>\n",
       "    </tr>\n",
       "  </tbody>\n",
       "</table>\n",
       "</div>"
      ],
      "text/plain": [
       "            P. Name P. Name Kepler  P. Name KOI P. Zone Class P. Mass Class  \\\n",
       "0       1RXS 1609 b            NaN          NaN          Cold        Jovian   \n",
       "1    1SWASP J1407 b            NaN          NaN          Cold        Jovian   \n",
       "2  2M 0103-55(AB) b            NaN          NaN          Cold        Jovian   \n",
       "3      2M 0122-24 b            NaN          NaN          Cold        Jovian   \n",
       "4      2M 0219-39 b            NaN          NaN          Cold        Jovian   \n",
       "\n",
       "  P. Composition Class P. Atmosphere Class P. Habitable Class  \\\n",
       "0                  gas       hydrogen-rich      non-habitable   \n",
       "1                  gas       hydrogen-rich      non-habitable   \n",
       "2                  gas       hydrogen-rich      non-habitable   \n",
       "3                  gas       hydrogen-rich      non-habitable   \n",
       "4                  gas       hydrogen-rich      non-habitable   \n",
       "\n",
       "   P. Min Mass (EU)  P. Mass (EU)  P. Max Mass (EU)  P. Radius (EU)  \\\n",
       "0               NaN       4451.16               NaN           19.04   \n",
       "1           6358.80       6358.80               NaN           10.94   \n",
       "2           4133.22       4133.22               NaN           11.40   \n",
       "3               NaN       6358.80               NaN           11.20   \n",
       "4               NaN       4419.37               NaN           16.13   \n",
       "\n",
       "   P. Density (EU)  P. Gravity (EU)  P. Esc Vel (EU) P. SFlux Min (EU)  \\\n",
       "0             0.64            12.28            15.29          4.08E-06   \n",
       "1             4.86            53.12            24.11        0.02166914   \n",
       "2             2.79            31.79            19.04          3.96E-06   \n",
       "3             4.53            50.69            23.83          1.03E-05   \n",
       "4             1.05            16.99            16.55          2.37E-07   \n",
       "\n",
       "  P. SFlux Mean (EU) P. SFlux Max (EU)  P. Teq Min (K)  P. Teq Mean (K)  \\\n",
       "0           4.08E-06          4.08E-06            11.4             11.4   \n",
       "1         0.02166914        0.02166914            97.7             97.7   \n",
       "2           3.96E-06          3.96E-06            11.4             11.4   \n",
       "3           1.03E-05          1.03E-05            14.4             14.4   \n",
       "4           2.37E-07          2.37E-07             5.6              5.6   \n",
       "\n",
       "   P. Teq Max (K)  P. Ts Min (K)  P. Ts Mean (K)  P. Ts Max (K)  \\\n",
       "0            11.4            NaN             NaN            NaN   \n",
       "1            97.7            NaN             NaN            NaN   \n",
       "2            11.4            NaN             NaN            NaN   \n",
       "3            14.4            NaN             NaN            NaN   \n",
       "4             5.6            NaN             NaN            NaN   \n",
       "\n",
       "   P. Surf Press (EU)  P. Mag  P. Appar Size (deg)  P. Period (days)  \\\n",
       "0              2870.4  -10.06                36.81               NaN   \n",
       "1             30873.8  -18.21                20.91            3725.0   \n",
       "2             11520.8   -8.91                21.80               NaN   \n",
       "3             28780.4   -9.92                21.41               NaN   \n",
       "4              4655.6   -6.60                31.03               NaN   \n",
       "\n",
       "   P. Sem Major Axis (AU)  P. Eccentricity  P. Mean Distance (AU)  \\\n",
       "0                   330.0              0.0                  330.0   \n",
       "1                     3.9              0.0                    3.9   \n",
       "2                    84.0              0.0                   84.0   \n",
       "3                    52.0              0.0                   52.0   \n",
       "4                   156.0              0.0                  156.0   \n",
       "\n",
       "   P. Inclination (deg)  P. Omega (deg)         S. Name S. Name HD  \\\n",
       "0                   NaN             0.0        1RXS1609        NaN   \n",
       "1                   NaN             0.0    1SWASP J1407        NaN   \n",
       "2                   NaN             0.0  2M 0103-55(AB)        NaN   \n",
       "3                   NaN             0.0      2M 0122-24        NaN   \n",
       "4                   NaN             0.0      2M 0219-39        NaN   \n",
       "\n",
       "  S. Name HIP S. Constellation S. Type  S. Mass (SU)  S. Radius (SU)  \\\n",
       "0         NaN              Sco     K7V          0.73            1.35   \n",
       "1         NaN              Cen       K          0.90            0.99   \n",
       "2         NaN              Phe       M          0.40            0.38   \n",
       "3         NaN              Cet    M3.5          0.40            0.38   \n",
       "4         NaN              For      M6          0.11            0.27   \n",
       "\n",
       "   S. Teff (K)  S. Luminosity (SU)  S. [Fe/H]  S. Age (Gyrs)  S. Appar Mag  \\\n",
       "0       4060.0            0.444285        NaN          0.011           NaN   \n",
       "1       4400.0            0.329588        NaN          0.016          12.4   \n",
       "2       3840.0            0.027955        NaN          0.030           NaN   \n",
       "3       3840.0            0.027955        NaN          0.120           NaN   \n",
       "4       3064.0            0.005765        NaN            NaN           NaN   \n",
       "\n",
       "   S. Distance (pc)  S. RA (hrs)  S. DEC (deg)  S. Mag from Planet  \\\n",
       "0             145.0      16.1583      -21.0828               -13.2   \n",
       "1             133.0      14.1300      -39.7619               -22.5   \n",
       "2              47.2       1.0600      -55.2656               -13.2   \n",
       "3              36.0       1.3808      -24.6142               -14.2   \n",
       "4              39.4       2.3228      -39.4231               -10.1   \n",
       "\n",
       "   S. Size from Planet (deg)  S. No. Planets  S. No. Planets HZ  \\\n",
       "0                     0.0022               1                  0   \n",
       "1                     0.1353               1                  0   \n",
       "2                     0.0024               1                  0   \n",
       "3                     0.0039               1                  0   \n",
       "4                     0.0009               1                  0   \n",
       "\n",
       "   S. Hab Zone Min (AU)  S. Hab Zone Max (AU)   P. HZD  P. HZC  P. HZA  \\\n",
       "0                 0.540                 1.362   800.07   23.51   85.62   \n",
       "1                 0.461                 1.143     9.07   15.30   45.41   \n",
       "2                 0.136                 0.347   793.67   12.57  107.44   \n",
       "3                 0.136                 0.347   490.45   15.72  119.46   \n",
       "4                 0.062                 0.165  3028.82   19.46  133.25   \n",
       "\n",
       "   P. HZI  P. SPH  P. Int ESI  P. Surf ESI  P. ESI  S. HabCat  P. Habitable  \\\n",
       "0    0.00     NaN           0            0    0.05          0             0   \n",
       "1    0.02     NaN           0            0    0.07          0             0   \n",
       "2    0.00     NaN           0            0    0.06          0             0   \n",
       "3    0.00     NaN           0            0    0.08          0             0   \n",
       "4    0.00     NaN           0            0    0.06          0             0   \n",
       "\n",
       "   P. Hab Moon  P. Confirmed  P. Disc. Method P. Disc. Year  Unnamed: 68  \n",
       "0            0             1          Imaging          2008          NaN  \n",
       "1            0             1  Primary Transit          2012          NaN  \n",
       "2            0             1          Imaging          2013          NaN  \n",
       "3            0             1          Imaging          2013          NaN  \n",
       "4            0             1          Imaging          2015          NaN  "
      ]
     },
     "execution_count": 380,
     "metadata": {},
     "output_type": "execute_result"
    }
   ],
   "source": [
    "planets = pd.read_csv(\"../PHL-EC.csv\")\n",
    "planets.head()"
   ]
  },
  {
   "cell_type": "markdown",
   "metadata": {},
   "source": [
    "### Pulizia dei dati"
   ]
  },
  {
   "cell_type": "markdown",
   "metadata": {},
   "source": [
    "Verichiamo quanti esempi sono presenti per ogni classe di abitibilità.\n"
   ]
  },
  {
   "cell_type": "code",
   "execution_count": 381,
   "metadata": {},
   "outputs": [
    {
     "data": {
      "text/plain": [
       "non-habitable        3820\n",
       "mesoplanet             31\n",
       "psychroplanet          18\n",
       "hypopsychroplanet       3\n",
       "thermoplanet            3\n",
       "Name: P. Habitable Class, dtype: int64"
      ]
     },
     "execution_count": 381,
     "metadata": {},
     "output_type": "execute_result"
    }
   ],
   "source": [
    "# mi faccio una idea idea su quali siano le tipologie di pianeti con meno esempi\n",
    "\n",
    "target_count = planets['P. Habitable Class'].value_counts()\n",
    "target_count"
   ]
  },
  {
   "cell_type": "markdown",
   "metadata": {},
   "source": [
    "Eliminiamo le tipologie di pianeti per i quali abbiamo pochi esempi."
   ]
  },
  {
   "cell_type": "code",
   "execution_count": 382,
   "metadata": {},
   "outputs": [],
   "source": [
    "# elimino effettivamente i pianeti appartenenyi alla classe dei 'thermoplanet' e 'hypopsychroplanet'\n",
    "# per i quali abbiamo solamente 3 esempi ciscuno\n",
    "\n",
    "indexNames = planets[planets['P. Habitable Class'] == 'thermoplanet'].index\n",
    "planets.drop(indexNames, inplace= True)\n",
    "\n",
    "\n",
    "indexNames = planets[planets['P. Habitable Class'] == 'hypopsychroplanet'].index\n",
    "planets.drop(indexNames, inplace= True)"
   ]
  },
  {
   "cell_type": "markdown",
   "metadata": {},
   "source": [
    "Dopo l'eliminazione delle classi con pochi esempi avremo la seguente situazione; le classi di abitabilità non saranno più 5 ma saranno ridotte a 3 classi di abitabilita:\n",
    "+ **non-habitable**\n",
    "+ **mesoplanet**\n",
    "+ **psychroplanet**"
   ]
  },
  {
   "cell_type": "code",
   "execution_count": 383,
   "metadata": {},
   "outputs": [
    {
     "data": {
      "text/plain": [
       "non-habitable    3820\n",
       "mesoplanet         31\n",
       "psychroplanet      18\n",
       "Name: P. Habitable Class, dtype: int64"
      ]
     },
     "execution_count": 383,
     "metadata": {},
     "output_type": "execute_result"
    }
   ],
   "source": [
    "# ora la situazione sarà la seguente\n",
    "\n",
    "target_count = planets['P. Habitable Class'].value_counts()\n",
    "target_count"
   ]
  },
  {
   "cell_type": "markdown",
   "metadata": {},
   "source": [
    "Avendo eliminato degli esempi, ossia delle righe dal nostro dataframe devo resettare di conseguenza l'index."
   ]
  },
  {
   "cell_type": "code",
   "execution_count": 384,
   "metadata": {},
   "outputs": [],
   "source": [
    "# resetto l'index del nostro database che è cambiato avendo tolto alcuni esempi\n",
    "\n",
    "planets.reset_index(inplace = True, drop= True)"
   ]
  },
  {
   "cell_type": "markdown",
   "metadata": {},
   "source": [
    "Continuamo rimuovendo ulteriori features in input, in modo tale da ridurre la dimensionalità del feautures space e in modo tale da rimuovere quelle features per le quali si hanno pochi dati."
   ]
  },
  {
   "cell_type": "code",
   "execution_count": 385,
   "metadata": {},
   "outputs": [],
   "source": [
    "# funzione che permette di rimuovere le feutures la cui densità è sotto un certo treshold\n",
    "# count = valori nulli in una colonna specifica(in una feature)\n",
    "# lenplanet(planet) = numero di righe totali(tot pianeti)\n",
    "# count/len(planet) = ci dice in percentuale quanti valori ci saranno in quella colonna\n",
    "\n",
    "def remove_missing(feauture):\n",
    "    count = len(planets[planets[feauture].isnull()])\n",
    "    if count/len(planets) > 0.2:\n",
    "        return 1\n",
    "    else:\n",
    "        return 0\n",
    "    \n",
    "missing_values = [x for x in planets.columns if remove_missing(x)]\n",
    "planets = planets.drop(missing_values, axis=1)"
   ]
  },
  {
   "cell_type": "markdown",
   "metadata": {},
   "source": [
    "Rimuoviamo anche le seguenti features che non hanno alcuna valenza per il nostro obbiettivo: alcune di esse rappresentano l'incertezza di certe features, altre non hanno valenza da un punto di vista fisico."
   ]
  },
  {
   "cell_type": "code",
   "execution_count": 386,
   "metadata": {},
   "outputs": [],
   "source": [
    "# rimuovo altre features che rappresentano l'incertezza di alcune feautures e\n",
    "# altre feautures che non interessano direttamente la classificazione\n",
    "\n",
    "cols_to_drop = ['P. Name','S. Constellation', 'S. Type', 'P. Int ESI', 'P. Habitable',\n",
    "                'P. Surf ESI', 'P. Disc. Method', 'P. Disc. Year','P. Hab Moon', 'P. SFlux Min (EU)', 'P. SFlux Max (EU)',\n",
    "                'P. Teq Min (K)','P. Teq Max (K)','P. SFlux Mean (EU)','S. Name', 'S. Hab Zone Min (AU)', 'S. Hab Zone Max (AU)']\n",
    "\n",
    "planets = planets.drop(cols_to_drop, axis=1)"
   ]
  },
  {
   "cell_type": "markdown",
   "metadata": {},
   "source": [
    "Le features rimaste per il momento saranno pertanto le seguenti."
   ]
  },
  {
   "cell_type": "code",
   "execution_count": 387,
   "metadata": {},
   "outputs": [
    {
     "name": "stdout",
     "output_type": "stream",
     "text": [
      "['P. Zone Class', 'P. Mass Class', 'P. Composition Class', 'P. Atmosphere Class', 'P. Habitable Class', 'P. Mass (EU)', 'P. Radius (EU)', 'P. Density (EU)', 'P. Gravity (EU)', 'P. Esc Vel (EU)', 'P. Teq Mean (K)', 'P. Surf Press (EU)', 'P. Mag', 'P. Appar Size (deg)', 'P. Period (days)', 'P. Sem Major Axis (AU)', 'P. Eccentricity', 'P. Mean Distance (AU)', 'P. Omega (deg)', 'S. Mass (SU)', 'S. Radius (SU)', 'S. Teff (K)', 'S. Luminosity (SU)', 'S. RA (hrs)', 'S. DEC (deg)', 'S. Mag from Planet', 'S. Size from Planet (deg)', 'S. No. Planets', 'S. No. Planets HZ', 'P. HZD', 'P. HZC', 'P. HZA', 'P. HZI', 'P. ESI', 'S. HabCat', 'P. Confirmed']\n"
     ]
    }
   ],
   "source": [
    "pd.options.display.max_columns = None\n",
    "pd.options.display.max_rows = None\n",
    "\n",
    "print(planets.columns.tolist())\n"
   ]
  },
  {
   "cell_type": "markdown",
   "metadata": {},
   "source": [
    "Per decidere se eliminare altre features osserviamo la correlazione tra le feutures creando una visualizzazione che traccia la misura di correlazione per ogni feature nel set di dati."
   ]
  },
  {
   "cell_type": "markdown",
   "metadata": {},
   "source": [
    "Prima di poter fare questo però devo :\n",
    "1. *riempire il dataset con dati mancanti*\n",
    "2. *trasformare le features categoriche in features numeriche*\n"
   ]
  },
  {
   "cell_type": "markdown",
   "metadata": {},
   "source": [
    "Prima di tutto determiniamoo quali siano le features categoriche"
   ]
  },
  {
   "cell_type": "code",
   "execution_count": 388,
   "metadata": {},
   "outputs": [
    {
     "name": "stdout",
     "output_type": "stream",
     "text": [
      "<bound method IndexOpsMixin.tolist of P. Zone Class                 object\n",
      "P. Mass Class                 object\n",
      "P. Composition Class          object\n",
      "P. Atmosphere Class           object\n",
      "P. Habitable Class            object\n",
      "P. Mass (EU)                 float64\n",
      "P. Radius (EU)               float64\n",
      "P. Density (EU)              float64\n",
      "P. Gravity (EU)              float64\n",
      "P. Esc Vel (EU)              float64\n",
      "P. Teq Mean (K)              float64\n",
      "P. Surf Press (EU)           float64\n",
      "P. Mag                       float64\n",
      "P. Appar Size (deg)          float64\n",
      "P. Period (days)             float64\n",
      "P. Sem Major Axis (AU)       float64\n",
      "P. Eccentricity              float64\n",
      "P. Mean Distance (AU)        float64\n",
      "P. Omega (deg)               float64\n",
      "S. Mass (SU)                 float64\n",
      "S. Radius (SU)               float64\n",
      "S. Teff (K)                  float64\n",
      "S. Luminosity (SU)           float64\n",
      "S. RA (hrs)                  float64\n",
      "S. DEC (deg)                 float64\n",
      "S. Mag from Planet           float64\n",
      "S. Size from Planet (deg)    float64\n",
      "S. No. Planets                 int64\n",
      "S. No. Planets HZ              int64\n",
      "P. HZD                       float64\n",
      "P. HZC                       float64\n",
      "P. HZA                       float64\n",
      "P. HZI                       float64\n",
      "P. ESI                       float64\n",
      "S. HabCat                      int64\n",
      "P. Confirmed                   int64\n",
      "dtype: object>\n"
     ]
    }
   ],
   "source": [
    "pd.options.display.max_columns = None\n",
    "pd.options.display.max_rows = None\n",
    "print(planets.dtypes.tolist)"
   ]
  },
  {
   "cell_type": "markdown",
   "metadata": {},
   "source": [
    "Si noti come le uniche features categoriche siano le prime 5:\n",
    "\n",
    "1. *P. Zone Class*\n",
    "2. *P. Mass Class*\n",
    "3. *P. Composition Class*\n",
    "4. *P. Atmosphere Class*\n",
    "5. *P. Habitable Class'*\n"
   ]
  },
  {
   "cell_type": "markdown",
   "metadata": {},
   "source": [
    "Verifichiamo quanti siano i dati mancanti in totale, considerando quindi sia le features categoriche che quelle numeriche.\n",
    "Sfruttiamo inoltre un heatmap per facilitare la lettura di tali valori.\n"
   ]
  },
  {
   "cell_type": "code",
   "execution_count": 389,
   "metadata": {},
   "outputs": [
    {
     "name": "stdout",
     "output_type": "stream",
     "text": [
      "P. Zone Class                 46\n",
      "P. Mass Class                  6\n",
      "P. Composition Class          41\n",
      "P. Atmosphere Class           85\n",
      "P. Habitable Class             0\n",
      "P. Mass (EU)                  33\n",
      "P. Radius (EU)                12\n",
      "P. Density (EU)               41\n",
      "P. Gravity (EU)               41\n",
      "P. Esc Vel (EU)               41\n",
      "P. Teq Mean (K)               46\n",
      "P. Surf Press (EU)            41\n",
      "P. Mag                        56\n",
      "P. Appar Size (deg)           12\n",
      "P. Period (days)             150\n",
      "P. Sem Major Axis (AU)        35\n",
      "P. Eccentricity                0\n",
      "P. Mean Distance (AU)         35\n",
      "P. Omega (deg)                 0\n",
      "S. Mass (SU)                  47\n",
      "S. Radius (SU)               112\n",
      "S. Teff (K)                   99\n",
      "S. Luminosity (SU)            28\n",
      "S. RA (hrs)                    0\n",
      "S. DEC (deg)                   0\n",
      "S. Mag from Planet            46\n",
      "S. Size from Planet (deg)    128\n",
      "S. No. Planets                 0\n",
      "S. No. Planets HZ              0\n",
      "P. HZD                        46\n",
      "P. HZC                        41\n",
      "P. HZA                        85\n",
      "P. HZI                        85\n",
      "P. ESI                        48\n",
      "S. HabCat                      0\n",
      "P. Confirmed                   0\n",
      "dtype: int64\n"
     ]
    },
    {
     "data": {
      "text/plain": [
       "<matplotlib.axes._subplots.AxesSubplot at 0x1cfcff75c10>"
      ]
     },
     "execution_count": 389,
     "metadata": {},
     "output_type": "execute_result"
    },
    {
     "data": {
      "image/png": "[encoded data removed]",
      "text/plain": [
       "<Figure size 432x288 with 2 Axes>"
      ]
     },
     "metadata": {},
     "output_type": "display_data"
    }
   ],
   "source": [
    "print(planets.isnull().sum())\n",
    "sns.heatmap(planets.isnull())"
   ]
  },
  {
   "cell_type": "markdown",
   "metadata": {},
   "source": [
    "##### FASE 1 : riempire il dataset con dati mancanti"
   ]
  },
  {
   "cell_type": "markdown",
   "metadata": {},
   "source": [
    "Per le features numeriche adottiamo il **simple Imputer di sklearn** che permette di riempire il valore mancante con il valore medio all'interno della colonna, specificando come strategia *mean*"
   ]
  },
  {
   "cell_type": "code",
   "execution_count": 390,
   "metadata": {},
   "outputs": [
    {
     "data": {
      "text/plain": [
       "P. Mass (EU)                 0\n",
       "P. Radius (EU)               0\n",
       "P. Density (EU)              0\n",
       "P. Gravity (EU)              0\n",
       "P. Esc Vel (EU)              0\n",
       "P. Teq Mean (K)              0\n",
       "P. Surf Press (EU)           0\n",
       "P. Mag                       0\n",
       "P. Appar Size (deg)          0\n",
       "P. Period (days)             0\n",
       "P. Sem Major Axis (AU)       0\n",
       "P. Eccentricity              0\n",
       "P. Mean Distance (AU)        0\n",
       "P. Omega (deg)               0\n",
       "S. Mass (SU)                 0\n",
       "S. Radius (SU)               0\n",
       "S. Teff (K)                  0\n",
       "S. Luminosity (SU)           0\n",
       "S. RA (hrs)                  0\n",
       "S. DEC (deg)                 0\n",
       "S. Mag from Planet           0\n",
       "S. Size from Planet (deg)    0\n",
       "S. No. Planets               0\n",
       "S. No. Planets HZ            0\n",
       "P. HZD                       0\n",
       "P. HZC                       0\n",
       "P. HZA                       0\n",
       "P. HZI                       0\n",
       "P. ESI                       0\n",
       "S. HabCat                    0\n",
       "P. Confirmed                 0\n",
       "dtype: int64"
      ]
     },
     "execution_count": 390,
     "metadata": {},
     "output_type": "execute_result"
    }
   ],
   "source": [
    "# inserisco le features numeriche in una lista\n",
    "numeric_features = list(planets[planets._get_numeric_data().columns])\n",
    "\n",
    "simple_inputer = SimpleImputer(missing_values=np.nan, strategy='mean')\n",
    "planets[numeric_features] = simple_inputer.fit_transform(planets[numeric_features])\n",
    "\n",
    "planets[numeric_features].isnull().sum()"
   ]
  },
  {
   "cell_type": "markdown",
   "metadata": {},
   "source": [
    "Per le features categoriche adottiamo il **simple Imputer di sklearn** che permette di riempire il valore mancante con quello più ricorrente all'interno della colonna, specificando come strategia *most frequent*"
   ]
  },
  {
   "cell_type": "code",
   "execution_count": 391,
   "metadata": {},
   "outputs": [
    {
     "data": {
      "text/plain": [
       "P. Zone Class           0\n",
       "P. Mass Class           0\n",
       "P. Composition Class    0\n",
       "P. Atmosphere Class     0\n",
       "P. Habitable Class      0\n",
       "dtype: int64"
      ]
     },
     "execution_count": 391,
     "metadata": {},
     "output_type": "execute_result"
    }
   ],
   "source": [
    "# inserisco le features categoriche in una lista\n",
    "categorical_features = [col for col in planets.columns if planets[col].dtype==\"O\"]\n",
    "\n",
    "simple_inputer = SimpleImputer(missing_values=np.nan, strategy='most_frequent')\n",
    "planets[categorical_features] = simple_inputer.fit_transform(planets[categorical_features])\n",
    "\n",
    "planets[categorical_features].isnull().sum()\n"
   ]
  },
  {
   "cell_type": "markdown",
   "metadata": {},
   "source": [
    "Il risultato finale sarà il seguente.\n"
   ]
  },
  {
   "cell_type": "code",
   "execution_count": 392,
   "metadata": {},
   "outputs": [
    {
     "data": {
      "text/plain": [
       "<matplotlib.axes._subplots.AxesSubplot at 0x1cfd0cc84f0>"
      ]
     },
     "execution_count": 392,
     "metadata": {},
     "output_type": "execute_result"
    },
    {
     "data": {
      "image/png": "[encoded data removed]",
      "text/plain": [
       "<Figure size 432x288 with 2 Axes>"
      ]
     },
     "metadata": {},
     "output_type": "display_data"
    }
   ],
   "source": [
    "sns.heatmap(planets.isnull())"
   ]
  },
  {
   "cell_type": "markdown",
   "metadata": {},
   "source": [
    "##### FASE 2 : trasformare le feauture categoriche in feauturs numeriche"
   ]
  },
  {
   "cell_type": "markdown",
   "metadata": {},
   "source": [
    "Le prime 3 features (*P. Zone Class, P. Mass Class, new P. Habitable Class*) verranno trasformate utilizzando il **label encoding**, essendoci effettivamente un ordine tra i values le features. "
   ]
  },
  {
   "cell_type": "code",
   "execution_count": 393,
   "metadata": {},
   "outputs": [],
   "source": [
    "ord_enc = OrdinalEncoder()\n",
    "planets[\"new P. Zone Class_code\"] = ord_enc.fit_transform(planets[[\"P. Zone Class\"]])\n",
    "\n",
    "planets[\"new P. Mass Class\"] = ord_enc.fit_transform(planets[[\"P. Mass Class\"]])\n",
    "\n",
    "planets[\"new P. Habitable Class\"] = ord_enc.fit_transform(planets[[\"P. Habitable Class\"]])\n",
    "\n"
   ]
  },
  {
   "cell_type": "markdown",
   "metadata": {},
   "source": [
    "Poichè si è scoperto che stratifiedKFold non funziona con le feututres target multilabel ossia con le variabili indicatrici\n",
    "si è deciso di optare per il label encoding sebbene questa non sia stata la prima scelta.\n",
    "\n",
    "*Errore uscito : 'Supported target types are: ('binary', 'multiclass'). Got 'multilabel-indicator' instead'*\n",
    "\n"
   ]
  },
  {
   "cell_type": "markdown",
   "metadata": {},
   "source": [
    "Le altre due features (*P. Composition Class, P. Atmosphere Class)* verranno traformate utilizzando **l'hot encoder** che crea nuove feutures booleane a partire dai values delle features, ossia crea le *variabili indicatrici*\n"
   ]
  },
  {
   "cell_type": "code",
   "execution_count": 394,
   "metadata": {},
   "outputs": [],
   "source": [
    "# Il punto chiave è che devi utilizzare toarray() per convertire i risultati in un \n",
    "# formato che può essere convertito in un DataFrame.\n",
    "\n",
    "# traformazione feature P. Composition Class\n",
    "oe_style = OneHotEncoder()\n",
    "oe_results = oe_style.fit_transform(planets[[\"P. Composition Class\"]])\n",
    "pd.DataFrame(oe_results.toarray(), columns=oe_style.categories_)\n",
    "\n",
    "# Il passaggio successivo è unire questi dati al dataframe originale.\n",
    "planets = planets.join(pd.DataFrame(oe_results.toarray(), columns=oe_style.categories_))\n",
    "\n",
    "# traformazione feature P. Atmosphere Class\n",
    "oe_results = oe_style.fit_transform(planets[[\"P. Atmosphere Class\"]])\n",
    "pd.DataFrame(oe_results.toarray(), columns=oe_style.categories_)\n",
    "\n",
    "planets = planets.join(pd.DataFrame(oe_results.toarray(), columns=oe_style.categories_))\n",
    "\n",
    "\n",
    "# NON FUNZIONA LEGGERE SOPRA(blocco markdown sotto il blocco 67)\n",
    "#  traformazione feature P. Habitable Class\n",
    "#oe_results = oe_style.fit_transform(planets[[\"P. Habitable Class\"]])\n",
    "#pd.DataFrame(oe_results.toarray(), columns=oe_style.categories_)\n",
    "\n",
    "#planets = planets.join(pd.DataFrame(oe_results.toarray(), columns=oe_style.categories_))"
   ]
  },
  {
   "cell_type": "markdown",
   "metadata": {},
   "source": [
    "Il dataframe con le nuove features sarà il seguente"
   ]
  },
  {
   "cell_type": "code",
   "execution_count": 395,
   "metadata": {},
   "outputs": [
    {
     "data": {
      "text/html": [
       "<div>\n",
       "<style scoped>\n",
       "    .dataframe tbody tr th:only-of-type {\n",
       "        vertical-align: middle;\n",
       "    }\n",
       "\n",
       "    .dataframe tbody tr th {\n",
       "        vertical-align: top;\n",
       "    }\n",
       "\n",
       "    .dataframe thead th {\n",
       "        text-align: right;\n",
       "    }\n",
       "</style>\n",
       "<table border=\"1\" class=\"dataframe\">\n",
       "  <thead>\n",
       "    <tr style=\"text-align: right;\">\n",
       "      <th></th>\n",
       "      <th>P. Zone Class</th>\n",
       "      <th>P. Mass Class</th>\n",
       "      <th>P. Composition Class</th>\n",
       "      <th>P. Atmosphere Class</th>\n",
       "      <th>P. Habitable Class</th>\n",
       "      <th>P. Mass (EU)</th>\n",
       "      <th>P. Radius (EU)</th>\n",
       "      <th>P. Density (EU)</th>\n",
       "      <th>P. Gravity (EU)</th>\n",
       "      <th>P. Esc Vel (EU)</th>\n",
       "      <th>P. Teq Mean (K)</th>\n",
       "      <th>P. Surf Press (EU)</th>\n",
       "      <th>P. Mag</th>\n",
       "      <th>P. Appar Size (deg)</th>\n",
       "      <th>P. Period (days)</th>\n",
       "      <th>P. Sem Major Axis (AU)</th>\n",
       "      <th>P. Eccentricity</th>\n",
       "      <th>P. Mean Distance (AU)</th>\n",
       "      <th>P. Omega (deg)</th>\n",
       "      <th>S. Mass (SU)</th>\n",
       "      <th>S. Radius (SU)</th>\n",
       "      <th>S. Teff (K)</th>\n",
       "      <th>S. Luminosity (SU)</th>\n",
       "      <th>S. RA (hrs)</th>\n",
       "      <th>S. DEC (deg)</th>\n",
       "      <th>S. Mag from Planet</th>\n",
       "      <th>S. Size from Planet (deg)</th>\n",
       "      <th>S. No. Planets</th>\n",
       "      <th>S. No. Planets HZ</th>\n",
       "      <th>P. HZD</th>\n",
       "      <th>P. HZC</th>\n",
       "      <th>P. HZA</th>\n",
       "      <th>P. HZI</th>\n",
       "      <th>P. ESI</th>\n",
       "      <th>S. HabCat</th>\n",
       "      <th>P. Confirmed</th>\n",
       "      <th>new P. Zone Class_code</th>\n",
       "      <th>new P. Mass Class</th>\n",
       "      <th>new P. Habitable Class</th>\n",
       "      <th>(gas,)</th>\n",
       "      <th>(iron,)</th>\n",
       "      <th>(rocky-iron,)</th>\n",
       "      <th>(rocky-water,)</th>\n",
       "      <th>(water-gas,)</th>\n",
       "      <th>(hydrogen-rich,)</th>\n",
       "      <th>(metals-rich,)</th>\n",
       "      <th>(no-atmosphere,)</th>\n",
       "    </tr>\n",
       "  </thead>\n",
       "  <tbody>\n",
       "    <tr>\n",
       "      <th>0</th>\n",
       "      <td>Cold</td>\n",
       "      <td>Jovian</td>\n",
       "      <td>gas</td>\n",
       "      <td>hydrogen-rich</td>\n",
       "      <td>non-habitable</td>\n",
       "      <td>4451.16</td>\n",
       "      <td>19.04</td>\n",
       "      <td>0.64</td>\n",
       "      <td>12.28</td>\n",
       "      <td>15.29</td>\n",
       "      <td>11.4</td>\n",
       "      <td>2870.4</td>\n",
       "      <td>-10.06</td>\n",
       "      <td>36.81</td>\n",
       "      <td>721.574617</td>\n",
       "      <td>330.0</td>\n",
       "      <td>0.0</td>\n",
       "      <td>330.0</td>\n",
       "      <td>0.0</td>\n",
       "      <td>0.73</td>\n",
       "      <td>1.35</td>\n",
       "      <td>4060.0</td>\n",
       "      <td>0.444285</td>\n",
       "      <td>16.1583</td>\n",
       "      <td>-21.0828</td>\n",
       "      <td>-13.2</td>\n",
       "      <td>0.0022</td>\n",
       "      <td>1.0</td>\n",
       "      <td>0.0</td>\n",
       "      <td>800.07</td>\n",
       "      <td>23.51</td>\n",
       "      <td>85.62</td>\n",
       "      <td>0.00</td>\n",
       "      <td>0.05</td>\n",
       "      <td>0.0</td>\n",
       "      <td>1.0</td>\n",
       "      <td>0.0</td>\n",
       "      <td>0.0</td>\n",
       "      <td>1.0</td>\n",
       "      <td>1.0</td>\n",
       "      <td>0.0</td>\n",
       "      <td>0.0</td>\n",
       "      <td>0.0</td>\n",
       "      <td>0.0</td>\n",
       "      <td>1.0</td>\n",
       "      <td>0.0</td>\n",
       "      <td>0.0</td>\n",
       "    </tr>\n",
       "    <tr>\n",
       "      <th>1</th>\n",
       "      <td>Cold</td>\n",
       "      <td>Jovian</td>\n",
       "      <td>gas</td>\n",
       "      <td>hydrogen-rich</td>\n",
       "      <td>non-habitable</td>\n",
       "      <td>6358.80</td>\n",
       "      <td>10.94</td>\n",
       "      <td>4.86</td>\n",
       "      <td>53.12</td>\n",
       "      <td>24.11</td>\n",
       "      <td>97.7</td>\n",
       "      <td>30873.8</td>\n",
       "      <td>-18.21</td>\n",
       "      <td>20.91</td>\n",
       "      <td>3725.000000</td>\n",
       "      <td>3.9</td>\n",
       "      <td>0.0</td>\n",
       "      <td>3.9</td>\n",
       "      <td>0.0</td>\n",
       "      <td>0.90</td>\n",
       "      <td>0.99</td>\n",
       "      <td>4400.0</td>\n",
       "      <td>0.329588</td>\n",
       "      <td>14.1300</td>\n",
       "      <td>-39.7619</td>\n",
       "      <td>-22.5</td>\n",
       "      <td>0.1353</td>\n",
       "      <td>1.0</td>\n",
       "      <td>0.0</td>\n",
       "      <td>9.07</td>\n",
       "      <td>15.30</td>\n",
       "      <td>45.41</td>\n",
       "      <td>0.02</td>\n",
       "      <td>0.07</td>\n",
       "      <td>0.0</td>\n",
       "      <td>1.0</td>\n",
       "      <td>0.0</td>\n",
       "      <td>0.0</td>\n",
       "      <td>1.0</td>\n",
       "      <td>1.0</td>\n",
       "      <td>0.0</td>\n",
       "      <td>0.0</td>\n",
       "      <td>0.0</td>\n",
       "      <td>0.0</td>\n",
       "      <td>1.0</td>\n",
       "      <td>0.0</td>\n",
       "      <td>0.0</td>\n",
       "    </tr>\n",
       "    <tr>\n",
       "      <th>2</th>\n",
       "      <td>Cold</td>\n",
       "      <td>Jovian</td>\n",
       "      <td>gas</td>\n",
       "      <td>hydrogen-rich</td>\n",
       "      <td>non-habitable</td>\n",
       "      <td>4133.22</td>\n",
       "      <td>11.40</td>\n",
       "      <td>2.79</td>\n",
       "      <td>31.79</td>\n",
       "      <td>19.04</td>\n",
       "      <td>11.4</td>\n",
       "      <td>11520.8</td>\n",
       "      <td>-8.91</td>\n",
       "      <td>21.80</td>\n",
       "      <td>721.574617</td>\n",
       "      <td>84.0</td>\n",
       "      <td>0.0</td>\n",
       "      <td>84.0</td>\n",
       "      <td>0.0</td>\n",
       "      <td>0.40</td>\n",
       "      <td>0.38</td>\n",
       "      <td>3840.0</td>\n",
       "      <td>0.027955</td>\n",
       "      <td>1.0600</td>\n",
       "      <td>-55.2656</td>\n",
       "      <td>-13.2</td>\n",
       "      <td>0.0024</td>\n",
       "      <td>1.0</td>\n",
       "      <td>0.0</td>\n",
       "      <td>793.67</td>\n",
       "      <td>12.57</td>\n",
       "      <td>107.44</td>\n",
       "      <td>0.00</td>\n",
       "      <td>0.06</td>\n",
       "      <td>0.0</td>\n",
       "      <td>1.0</td>\n",
       "      <td>0.0</td>\n",
       "      <td>0.0</td>\n",
       "      <td>1.0</td>\n",
       "      <td>1.0</td>\n",
       "      <td>0.0</td>\n",
       "      <td>0.0</td>\n",
       "      <td>0.0</td>\n",
       "      <td>0.0</td>\n",
       "      <td>1.0</td>\n",
       "      <td>0.0</td>\n",
       "      <td>0.0</td>\n",
       "    </tr>\n",
       "    <tr>\n",
       "      <th>3</th>\n",
       "      <td>Cold</td>\n",
       "      <td>Jovian</td>\n",
       "      <td>gas</td>\n",
       "      <td>hydrogen-rich</td>\n",
       "      <td>non-habitable</td>\n",
       "      <td>6358.80</td>\n",
       "      <td>11.20</td>\n",
       "      <td>4.53</td>\n",
       "      <td>50.69</td>\n",
       "      <td>23.83</td>\n",
       "      <td>14.4</td>\n",
       "      <td>28780.4</td>\n",
       "      <td>-9.92</td>\n",
       "      <td>21.41</td>\n",
       "      <td>721.574617</td>\n",
       "      <td>52.0</td>\n",
       "      <td>0.0</td>\n",
       "      <td>52.0</td>\n",
       "      <td>0.0</td>\n",
       "      <td>0.40</td>\n",
       "      <td>0.38</td>\n",
       "      <td>3840.0</td>\n",
       "      <td>0.027955</td>\n",
       "      <td>1.3808</td>\n",
       "      <td>-24.6142</td>\n",
       "      <td>-14.2</td>\n",
       "      <td>0.0039</td>\n",
       "      <td>1.0</td>\n",
       "      <td>0.0</td>\n",
       "      <td>490.45</td>\n",
       "      <td>15.72</td>\n",
       "      <td>119.46</td>\n",
       "      <td>0.00</td>\n",
       "      <td>0.08</td>\n",
       "      <td>0.0</td>\n",
       "      <td>1.0</td>\n",
       "      <td>0.0</td>\n",
       "      <td>0.0</td>\n",
       "      <td>1.0</td>\n",
       "      <td>1.0</td>\n",
       "      <td>0.0</td>\n",
       "      <td>0.0</td>\n",
       "      <td>0.0</td>\n",
       "      <td>0.0</td>\n",
       "      <td>1.0</td>\n",
       "      <td>0.0</td>\n",
       "      <td>0.0</td>\n",
       "    </tr>\n",
       "    <tr>\n",
       "      <th>4</th>\n",
       "      <td>Cold</td>\n",
       "      <td>Jovian</td>\n",
       "      <td>gas</td>\n",
       "      <td>hydrogen-rich</td>\n",
       "      <td>non-habitable</td>\n",
       "      <td>4419.37</td>\n",
       "      <td>16.13</td>\n",
       "      <td>1.05</td>\n",
       "      <td>16.99</td>\n",
       "      <td>16.55</td>\n",
       "      <td>5.6</td>\n",
       "      <td>4655.6</td>\n",
       "      <td>-6.60</td>\n",
       "      <td>31.03</td>\n",
       "      <td>721.574617</td>\n",
       "      <td>156.0</td>\n",
       "      <td>0.0</td>\n",
       "      <td>156.0</td>\n",
       "      <td>0.0</td>\n",
       "      <td>0.11</td>\n",
       "      <td>0.27</td>\n",
       "      <td>3064.0</td>\n",
       "      <td>0.005765</td>\n",
       "      <td>2.3228</td>\n",
       "      <td>-39.4231</td>\n",
       "      <td>-10.1</td>\n",
       "      <td>0.0009</td>\n",
       "      <td>1.0</td>\n",
       "      <td>0.0</td>\n",
       "      <td>3028.82</td>\n",
       "      <td>19.46</td>\n",
       "      <td>133.25</td>\n",
       "      <td>0.00</td>\n",
       "      <td>0.06</td>\n",
       "      <td>0.0</td>\n",
       "      <td>1.0</td>\n",
       "      <td>0.0</td>\n",
       "      <td>0.0</td>\n",
       "      <td>1.0</td>\n",
       "      <td>1.0</td>\n",
       "      <td>0.0</td>\n",
       "      <td>0.0</td>\n",
       "      <td>0.0</td>\n",
       "      <td>0.0</td>\n",
       "      <td>1.0</td>\n",
       "      <td>0.0</td>\n",
       "      <td>0.0</td>\n",
       "    </tr>\n",
       "  </tbody>\n",
       "</table>\n",
       "</div>"
      ],
      "text/plain": [
       "  P. Zone Class P. Mass Class P. Composition Class P. Atmosphere Class  \\\n",
       "0          Cold        Jovian                  gas       hydrogen-rich   \n",
       "1          Cold        Jovian                  gas       hydrogen-rich   \n",
       "2          Cold        Jovian                  gas       hydrogen-rich   \n",
       "3          Cold        Jovian                  gas       hydrogen-rich   \n",
       "4          Cold        Jovian                  gas       hydrogen-rich   \n",
       "\n",
       "  P. Habitable Class  P. Mass (EU)  P. Radius (EU)  P. Density (EU)  \\\n",
       "0      non-habitable       4451.16           19.04             0.64   \n",
       "1      non-habitable       6358.80           10.94             4.86   \n",
       "2      non-habitable       4133.22           11.40             2.79   \n",
       "3      non-habitable       6358.80           11.20             4.53   \n",
       "4      non-habitable       4419.37           16.13             1.05   \n",
       "\n",
       "   P. Gravity (EU)  P. Esc Vel (EU)  P. Teq Mean (K)  P. Surf Press (EU)  \\\n",
       "0            12.28            15.29             11.4              2870.4   \n",
       "1            53.12            24.11             97.7             30873.8   \n",
       "2            31.79            19.04             11.4             11520.8   \n",
       "3            50.69            23.83             14.4             28780.4   \n",
       "4            16.99            16.55              5.6              4655.6   \n",
       "\n",
       "   P. Mag  P. Appar Size (deg)  P. Period (days)  P. Sem Major Axis (AU)  \\\n",
       "0  -10.06                36.81        721.574617                   330.0   \n",
       "1  -18.21                20.91       3725.000000                     3.9   \n",
       "2   -8.91                21.80        721.574617                    84.0   \n",
       "3   -9.92                21.41        721.574617                    52.0   \n",
       "4   -6.60                31.03        721.574617                   156.0   \n",
       "\n",
       "   P. Eccentricity  P. Mean Distance (AU)  P. Omega (deg)  S. Mass (SU)  \\\n",
       "0              0.0                  330.0             0.0          0.73   \n",
       "1              0.0                    3.9             0.0          0.90   \n",
       "2              0.0                   84.0             0.0          0.40   \n",
       "3              0.0                   52.0             0.0          0.40   \n",
       "4              0.0                  156.0             0.0          0.11   \n",
       "\n",
       "   S. Radius (SU)  S. Teff (K)  S. Luminosity (SU)  S. RA (hrs)  S. DEC (deg)  \\\n",
       "0            1.35       4060.0            0.444285      16.1583      -21.0828   \n",
       "1            0.99       4400.0            0.329588      14.1300      -39.7619   \n",
       "2            0.38       3840.0            0.027955       1.0600      -55.2656   \n",
       "3            0.38       3840.0            0.027955       1.3808      -24.6142   \n",
       "4            0.27       3064.0            0.005765       2.3228      -39.4231   \n",
       "\n",
       "   S. Mag from Planet  S. Size from Planet (deg)  S. No. Planets  \\\n",
       "0               -13.2                     0.0022             1.0   \n",
       "1               -22.5                     0.1353             1.0   \n",
       "2               -13.2                     0.0024             1.0   \n",
       "3               -14.2                     0.0039             1.0   \n",
       "4               -10.1                     0.0009             1.0   \n",
       "\n",
       "   S. No. Planets HZ   P. HZD  P. HZC  P. HZA  P. HZI  P. ESI  S. HabCat  \\\n",
       "0                0.0   800.07   23.51   85.62    0.00    0.05        0.0   \n",
       "1                0.0     9.07   15.30   45.41    0.02    0.07        0.0   \n",
       "2                0.0   793.67   12.57  107.44    0.00    0.06        0.0   \n",
       "3                0.0   490.45   15.72  119.46    0.00    0.08        0.0   \n",
       "4                0.0  3028.82   19.46  133.25    0.00    0.06        0.0   \n",
       "\n",
       "   P. Confirmed  new P. Zone Class_code  new P. Mass Class  \\\n",
       "0           1.0                     0.0                0.0   \n",
       "1           1.0                     0.0                0.0   \n",
       "2           1.0                     0.0                0.0   \n",
       "3           1.0                     0.0                0.0   \n",
       "4           1.0                     0.0                0.0   \n",
       "\n",
       "   new P. Habitable Class  (gas,)  (iron,)  (rocky-iron,)  (rocky-water,)  \\\n",
       "0                     1.0     1.0      0.0            0.0             0.0   \n",
       "1                     1.0     1.0      0.0            0.0             0.0   \n",
       "2                     1.0     1.0      0.0            0.0             0.0   \n",
       "3                     1.0     1.0      0.0            0.0             0.0   \n",
       "4                     1.0     1.0      0.0            0.0             0.0   \n",
       "\n",
       "   (water-gas,)  (hydrogen-rich,)  (metals-rich,)  (no-atmosphere,)  \n",
       "0           0.0               1.0             0.0               0.0  \n",
       "1           0.0               1.0             0.0               0.0  \n",
       "2           0.0               1.0             0.0               0.0  \n",
       "3           0.0               1.0             0.0               0.0  \n",
       "4           0.0               1.0             0.0               0.0  "
      ]
     },
     "execution_count": 395,
     "metadata": {},
     "output_type": "execute_result"
    }
   ],
   "source": [
    "planets.head()"
   ]
  },
  {
   "cell_type": "markdown",
   "metadata": {},
   "source": [
    "Rinomiano il label delle nuove features create.\n"
   ]
  },
  {
   "cell_type": "code",
   "execution_count": 396,
   "metadata": {},
   "outputs": [],
   "source": [
    "planets.rename({('gas',): 'Composition gas', \n",
    "                ('iron',): 'Composition iron',\n",
    "                ('rocky-iron',): 'Composition rocky-iron', \n",
    "                ('rocky-water',): 'Composition rocky-water',\n",
    "                ('water-gas',): 'Composition water-gas'}, axis=1, inplace= True) \n",
    "\n",
    "planets.rename({('hydrogen-rich',): 'Atmosphere hydrogen-rich', \n",
    "                ('metals-rich',): 'Atmosphere metals-rich',\n",
    "                ('no-atmosphere',): 'Atmosphere no-atmosphere'}, axis=1, inplace= True) \n",
    "\n",
    "# NON FUNZIONA LEGGERE SOPRA(blocco markdown sotto il blocco 67)\n",
    "#planets.rename({('mesoplanet',): 'Habitable mesoplanet', \n",
    "                # ('non-habitable',): 'Habitable non-habitable',\n",
    "                # ('psychroplanet',): 'Habitable psychroplanet'}, axis=1, inplace= True) \n"
   ]
  },
  {
   "cell_type": "markdown",
   "metadata": {},
   "source": [
    "Osserviamo la correlazione"
   ]
  },
  {
   "cell_type": "code",
   "execution_count": 397,
   "metadata": {},
   "outputs": [
    {
     "data": {
      "text/plain": [
       "<matplotlib.axes._subplots.AxesSubplot at 0x1cfcffac790>"
      ]
     },
     "execution_count": 397,
     "metadata": {},
     "output_type": "execute_result"
    },
    {
     "data": {
      "image/png": "[encoded data removed]",
      "text/plain": [
       "<Figure size 792x648 with 2 Axes>"
      ]
     },
     "metadata": {},
     "output_type": "display_data"
    }
   ],
   "source": [
    "# pands .corr() per calcolare la correlazione a coppie tra le features del dataframes\n",
    "corr = planets.corr()\n",
    "\n",
    "# visualizzo i dati con seaborn\n",
    "mask = np.triu(np.ones_like(corr, dtype=bool))\n",
    "sns.set_style(style = 'white')\n",
    "f, ax = plt.subplots(figsize=(11, 9))\n",
    "cmap = sns.diverging_palette(10, 250, as_cmap=True)\n",
    "sns.heatmap(corr, mask=mask, cmap=cmap, \n",
    "        square=True,\n",
    "        linewidths=.5, cbar_kws={\"shrink\": .5}, ax=ax)"
   ]
  },
  {
   "cell_type": "markdown",
   "metadata": {},
   "source": [
    "Si noti come tra le features rimaste ci siano delle feautures altamente correlate tra di loro, che restituiscono sostanzialmente le stesse informazioni, pertanto le rimuoviamo:\n",
    "\n",
    "- **P. Mass Class ---> P. Radius (EU) and P. Mass (EU)**\n",
    "- **P. Appar Size  ---> P. Radius (EU)**\n",
    "- **P. Surf Press    ---> Gravity**\n",
    "- **S. Mag from Planet ---> P. Mag**\n",
    "- **P. Sem Major Axis(AU) ---> P. Mean Distance(AU)**\n",
    "- **S. Size from Planet(deg) -->S. Mag from Planet**\n",
    "- **P. HZC --> P.Composition Class**\n",
    "- **P. HZA --> P Atmoshere Class**\n",
    "- **P. HZI --> HZD and HZC and HZA**\n",
    "\n",
    "Sebbene non sia altamente evidenziata la seguente correlazione, la rimuoviamo perchè sono correlate da un punto di vista fisico:\n",
    "- **P. Zone Class ---> HZD** \n",
    "\n",
    "La veridicità di tutte le precedenti correlazioni è state inoltre confermata da ricerce esplorative sul web.\n",
    "\n"
   ]
  },
  {
   "cell_type": "code",
   "execution_count": 398,
   "metadata": {},
   "outputs": [],
   "source": [
    "cols_to_drop = [\"P. Mass Class\", \"P. Zone Class\", \"P. Appar Size (deg)\", \"P. Surf Press (EU)\", \"S. Mag from Planet\", \"P. Sem Major Axis (AU)\", \"S. Size from Planet (deg)\", \"P. HZC\", \"P. HZA\", \"P. HZI\"]\n",
    "\n",
    "planets = planets.drop(cols_to_drop, axis=1)"
   ]
  },
  {
   "cell_type": "markdown",
   "metadata": {},
   "source": [
    "Possiamo ora notare come il nostro dataset sia molto sbilanciato"
   ]
  },
  {
   "cell_type": "code",
   "execution_count": 399,
   "metadata": {},
   "outputs": [
    {
     "name": "stdout",
     "output_type": "stream",
     "text": [
      "non-habitable: 3820\n",
      "mesoplanet: 31\n",
      "psychroplanet : 18\n",
      "Percentage of Majority Class: 98.72999999999999\n",
      "Percentage of Minority Class: 0.8\n",
      "Percentage of Minority Class: 0.47000000000000003\n"
     ]
    },
    {
     "data": {
      "text/plain": [
       "<matplotlib.axes._subplots.AxesSubplot at 0x1cfd386e8e0>"
      ]
     },
     "execution_count": 399,
     "metadata": {},
     "output_type": "execute_result"
    },
    {
     "data": {
      "image/png": "[encoded data removed]",
      "text/plain": [
       "<Figure size 432x288 with 1 Axes>"
      ]
     },
     "metadata": {},
     "output_type": "display_data"
    }
   ],
   "source": [
    "target_count = planets['P. Habitable Class'].value_counts()\n",
    "print(f'non-habitable: {target_count[0]}')\n",
    "print(f'mesoplanet: {target_count[1]}')\n",
    "print(f'psychroplanet : {target_count[2]}')\n",
    "print(f'Percentage of Majority Class: {round(target_count[0] / sum(target_count), 4)*100}')\n",
    "print(f'Percentage of Minority Class: {round(target_count[1] / sum(target_count), 4)*100}')\n",
    "print(f'Percentage of Minority Class: {round(target_count[2] / sum(target_count), 4)*100}')\n",
    "\n",
    "target_count.plot(kind='bar', title='Count (target)')"
   ]
  },
  {
   "cell_type": "code",
   "execution_count": 400,
   "metadata": {},
   "outputs": [
    {
     "data": {
      "text/html": [
       "<div>\n",
       "<style scoped>\n",
       "    .dataframe tbody tr th:only-of-type {\n",
       "        vertical-align: middle;\n",
       "    }\n",
       "\n",
       "    .dataframe tbody tr th {\n",
       "        vertical-align: top;\n",
       "    }\n",
       "\n",
       "    .dataframe thead th {\n",
       "        text-align: right;\n",
       "    }\n",
       "</style>\n",
       "<table border=\"1\" class=\"dataframe\">\n",
       "  <thead>\n",
       "    <tr style=\"text-align: right;\">\n",
       "      <th></th>\n",
       "      <th>P. Composition Class</th>\n",
       "      <th>P. Atmosphere Class</th>\n",
       "      <th>P. Habitable Class</th>\n",
       "      <th>P. Mass (EU)</th>\n",
       "      <th>P. Radius (EU)</th>\n",
       "      <th>P. Density (EU)</th>\n",
       "      <th>P. Gravity (EU)</th>\n",
       "      <th>P. Esc Vel (EU)</th>\n",
       "      <th>P. Teq Mean (K)</th>\n",
       "      <th>P. Mag</th>\n",
       "      <th>P. Period (days)</th>\n",
       "      <th>P. Eccentricity</th>\n",
       "      <th>P. Mean Distance (AU)</th>\n",
       "      <th>P. Omega (deg)</th>\n",
       "      <th>S. Mass (SU)</th>\n",
       "      <th>S. Radius (SU)</th>\n",
       "      <th>S. Teff (K)</th>\n",
       "      <th>S. Luminosity (SU)</th>\n",
       "      <th>S. RA (hrs)</th>\n",
       "      <th>S. DEC (deg)</th>\n",
       "      <th>S. No. Planets</th>\n",
       "      <th>S. No. Planets HZ</th>\n",
       "      <th>P. HZD</th>\n",
       "      <th>P. ESI</th>\n",
       "      <th>S. HabCat</th>\n",
       "      <th>P. Confirmed</th>\n",
       "      <th>new P. Zone Class_code</th>\n",
       "      <th>new P. Mass Class</th>\n",
       "      <th>new P. Habitable Class</th>\n",
       "      <th>Composition gas</th>\n",
       "      <th>Composition iron</th>\n",
       "      <th>Composition rocky-iron</th>\n",
       "      <th>Composition rocky-water</th>\n",
       "      <th>Composition water-gas</th>\n",
       "      <th>Atmosphere hydrogen-rich</th>\n",
       "      <th>Atmosphere metals-rich</th>\n",
       "      <th>Atmosphere no-atmosphere</th>\n",
       "    </tr>\n",
       "  </thead>\n",
       "  <tbody>\n",
       "    <tr>\n",
       "      <th>0</th>\n",
       "      <td>gas</td>\n",
       "      <td>hydrogen-rich</td>\n",
       "      <td>non-habitable</td>\n",
       "      <td>4451.16</td>\n",
       "      <td>19.04</td>\n",
       "      <td>0.64</td>\n",
       "      <td>12.28</td>\n",
       "      <td>15.29</td>\n",
       "      <td>11.4</td>\n",
       "      <td>-10.06</td>\n",
       "      <td>721.574617</td>\n",
       "      <td>0.0</td>\n",
       "      <td>330.0</td>\n",
       "      <td>0.0</td>\n",
       "      <td>0.73</td>\n",
       "      <td>1.35</td>\n",
       "      <td>4060.0</td>\n",
       "      <td>0.444285</td>\n",
       "      <td>16.1583</td>\n",
       "      <td>-21.0828</td>\n",
       "      <td>1.0</td>\n",
       "      <td>0.0</td>\n",
       "      <td>800.07</td>\n",
       "      <td>0.05</td>\n",
       "      <td>0.0</td>\n",
       "      <td>1.0</td>\n",
       "      <td>0.0</td>\n",
       "      <td>0.0</td>\n",
       "      <td>1.0</td>\n",
       "      <td>1.0</td>\n",
       "      <td>0.0</td>\n",
       "      <td>0.0</td>\n",
       "      <td>0.0</td>\n",
       "      <td>0.0</td>\n",
       "      <td>1.0</td>\n",
       "      <td>0.0</td>\n",
       "      <td>0.0</td>\n",
       "    </tr>\n",
       "    <tr>\n",
       "      <th>1</th>\n",
       "      <td>gas</td>\n",
       "      <td>hydrogen-rich</td>\n",
       "      <td>non-habitable</td>\n",
       "      <td>6358.80</td>\n",
       "      <td>10.94</td>\n",
       "      <td>4.86</td>\n",
       "      <td>53.12</td>\n",
       "      <td>24.11</td>\n",
       "      <td>97.7</td>\n",
       "      <td>-18.21</td>\n",
       "      <td>3725.000000</td>\n",
       "      <td>0.0</td>\n",
       "      <td>3.9</td>\n",
       "      <td>0.0</td>\n",
       "      <td>0.90</td>\n",
       "      <td>0.99</td>\n",
       "      <td>4400.0</td>\n",
       "      <td>0.329588</td>\n",
       "      <td>14.1300</td>\n",
       "      <td>-39.7619</td>\n",
       "      <td>1.0</td>\n",
       "      <td>0.0</td>\n",
       "      <td>9.07</td>\n",
       "      <td>0.07</td>\n",
       "      <td>0.0</td>\n",
       "      <td>1.0</td>\n",
       "      <td>0.0</td>\n",
       "      <td>0.0</td>\n",
       "      <td>1.0</td>\n",
       "      <td>1.0</td>\n",
       "      <td>0.0</td>\n",
       "      <td>0.0</td>\n",
       "      <td>0.0</td>\n",
       "      <td>0.0</td>\n",
       "      <td>1.0</td>\n",
       "      <td>0.0</td>\n",
       "      <td>0.0</td>\n",
       "    </tr>\n",
       "    <tr>\n",
       "      <th>2</th>\n",
       "      <td>gas</td>\n",
       "      <td>hydrogen-rich</td>\n",
       "      <td>non-habitable</td>\n",
       "      <td>4133.22</td>\n",
       "      <td>11.40</td>\n",
       "      <td>2.79</td>\n",
       "      <td>31.79</td>\n",
       "      <td>19.04</td>\n",
       "      <td>11.4</td>\n",
       "      <td>-8.91</td>\n",
       "      <td>721.574617</td>\n",
       "      <td>0.0</td>\n",
       "      <td>84.0</td>\n",
       "      <td>0.0</td>\n",
       "      <td>0.40</td>\n",
       "      <td>0.38</td>\n",
       "      <td>3840.0</td>\n",
       "      <td>0.027955</td>\n",
       "      <td>1.0600</td>\n",
       "      <td>-55.2656</td>\n",
       "      <td>1.0</td>\n",
       "      <td>0.0</td>\n",
       "      <td>793.67</td>\n",
       "      <td>0.06</td>\n",
       "      <td>0.0</td>\n",
       "      <td>1.0</td>\n",
       "      <td>0.0</td>\n",
       "      <td>0.0</td>\n",
       "      <td>1.0</td>\n",
       "      <td>1.0</td>\n",
       "      <td>0.0</td>\n",
       "      <td>0.0</td>\n",
       "      <td>0.0</td>\n",
       "      <td>0.0</td>\n",
       "      <td>1.0</td>\n",
       "      <td>0.0</td>\n",
       "      <td>0.0</td>\n",
       "    </tr>\n",
       "    <tr>\n",
       "      <th>3</th>\n",
       "      <td>gas</td>\n",
       "      <td>hydrogen-rich</td>\n",
       "      <td>non-habitable</td>\n",
       "      <td>6358.80</td>\n",
       "      <td>11.20</td>\n",
       "      <td>4.53</td>\n",
       "      <td>50.69</td>\n",
       "      <td>23.83</td>\n",
       "      <td>14.4</td>\n",
       "      <td>-9.92</td>\n",
       "      <td>721.574617</td>\n",
       "      <td>0.0</td>\n",
       "      <td>52.0</td>\n",
       "      <td>0.0</td>\n",
       "      <td>0.40</td>\n",
       "      <td>0.38</td>\n",
       "      <td>3840.0</td>\n",
       "      <td>0.027955</td>\n",
       "      <td>1.3808</td>\n",
       "      <td>-24.6142</td>\n",
       "      <td>1.0</td>\n",
       "      <td>0.0</td>\n",
       "      <td>490.45</td>\n",
       "      <td>0.08</td>\n",
       "      <td>0.0</td>\n",
       "      <td>1.0</td>\n",
       "      <td>0.0</td>\n",
       "      <td>0.0</td>\n",
       "      <td>1.0</td>\n",
       "      <td>1.0</td>\n",
       "      <td>0.0</td>\n",
       "      <td>0.0</td>\n",
       "      <td>0.0</td>\n",
       "      <td>0.0</td>\n",
       "      <td>1.0</td>\n",
       "      <td>0.0</td>\n",
       "      <td>0.0</td>\n",
       "    </tr>\n",
       "    <tr>\n",
       "      <th>4</th>\n",
       "      <td>gas</td>\n",
       "      <td>hydrogen-rich</td>\n",
       "      <td>non-habitable</td>\n",
       "      <td>4419.37</td>\n",
       "      <td>16.13</td>\n",
       "      <td>1.05</td>\n",
       "      <td>16.99</td>\n",
       "      <td>16.55</td>\n",
       "      <td>5.6</td>\n",
       "      <td>-6.60</td>\n",
       "      <td>721.574617</td>\n",
       "      <td>0.0</td>\n",
       "      <td>156.0</td>\n",
       "      <td>0.0</td>\n",
       "      <td>0.11</td>\n",
       "      <td>0.27</td>\n",
       "      <td>3064.0</td>\n",
       "      <td>0.005765</td>\n",
       "      <td>2.3228</td>\n",
       "      <td>-39.4231</td>\n",
       "      <td>1.0</td>\n",
       "      <td>0.0</td>\n",
       "      <td>3028.82</td>\n",
       "      <td>0.06</td>\n",
       "      <td>0.0</td>\n",
       "      <td>1.0</td>\n",
       "      <td>0.0</td>\n",
       "      <td>0.0</td>\n",
       "      <td>1.0</td>\n",
       "      <td>1.0</td>\n",
       "      <td>0.0</td>\n",
       "      <td>0.0</td>\n",
       "      <td>0.0</td>\n",
       "      <td>0.0</td>\n",
       "      <td>1.0</td>\n",
       "      <td>0.0</td>\n",
       "      <td>0.0</td>\n",
       "    </tr>\n",
       "  </tbody>\n",
       "</table>\n",
       "</div>"
      ],
      "text/plain": [
       "  P. Composition Class P. Atmosphere Class P. Habitable Class  P. Mass (EU)  \\\n",
       "0                  gas       hydrogen-rich      non-habitable       4451.16   \n",
       "1                  gas       hydrogen-rich      non-habitable       6358.80   \n",
       "2                  gas       hydrogen-rich      non-habitable       4133.22   \n",
       "3                  gas       hydrogen-rich      non-habitable       6358.80   \n",
       "4                  gas       hydrogen-rich      non-habitable       4419.37   \n",
       "\n",
       "   P. Radius (EU)  P. Density (EU)  P. Gravity (EU)  P. Esc Vel (EU)  \\\n",
       "0           19.04             0.64            12.28            15.29   \n",
       "1           10.94             4.86            53.12            24.11   \n",
       "2           11.40             2.79            31.79            19.04   \n",
       "3           11.20             4.53            50.69            23.83   \n",
       "4           16.13             1.05            16.99            16.55   \n",
       "\n",
       "   P. Teq Mean (K)  P. Mag  P. Period (days)  P. Eccentricity  \\\n",
       "0             11.4  -10.06        721.574617              0.0   \n",
       "1             97.7  -18.21       3725.000000              0.0   \n",
       "2             11.4   -8.91        721.574617              0.0   \n",
       "3             14.4   -9.92        721.574617              0.0   \n",
       "4              5.6   -6.60        721.574617              0.0   \n",
       "\n",
       "   P. Mean Distance (AU)  P. Omega (deg)  S. Mass (SU)  S. Radius (SU)  \\\n",
       "0                  330.0             0.0          0.73            1.35   \n",
       "1                    3.9             0.0          0.90            0.99   \n",
       "2                   84.0             0.0          0.40            0.38   \n",
       "3                   52.0             0.0          0.40            0.38   \n",
       "4                  156.0             0.0          0.11            0.27   \n",
       "\n",
       "   S. Teff (K)  S. Luminosity (SU)  S. RA (hrs)  S. DEC (deg)  S. No. Planets  \\\n",
       "0       4060.0            0.444285      16.1583      -21.0828             1.0   \n",
       "1       4400.0            0.329588      14.1300      -39.7619             1.0   \n",
       "2       3840.0            0.027955       1.0600      -55.2656             1.0   \n",
       "3       3840.0            0.027955       1.3808      -24.6142             1.0   \n",
       "4       3064.0            0.005765       2.3228      -39.4231             1.0   \n",
       "\n",
       "   S. No. Planets HZ   P. HZD  P. ESI  S. HabCat  P. Confirmed  \\\n",
       "0                0.0   800.07    0.05        0.0           1.0   \n",
       "1                0.0     9.07    0.07        0.0           1.0   \n",
       "2                0.0   793.67    0.06        0.0           1.0   \n",
       "3                0.0   490.45    0.08        0.0           1.0   \n",
       "4                0.0  3028.82    0.06        0.0           1.0   \n",
       "\n",
       "   new P. Zone Class_code  new P. Mass Class  new P. Habitable Class  \\\n",
       "0                     0.0                0.0                     1.0   \n",
       "1                     0.0                0.0                     1.0   \n",
       "2                     0.0                0.0                     1.0   \n",
       "3                     0.0                0.0                     1.0   \n",
       "4                     0.0                0.0                     1.0   \n",
       "\n",
       "   Composition gas  Composition iron  Composition rocky-iron  \\\n",
       "0              1.0               0.0                     0.0   \n",
       "1              1.0               0.0                     0.0   \n",
       "2              1.0               0.0                     0.0   \n",
       "3              1.0               0.0                     0.0   \n",
       "4              1.0               0.0                     0.0   \n",
       "\n",
       "   Composition rocky-water  Composition water-gas  Atmosphere hydrogen-rich  \\\n",
       "0                      0.0                    0.0                       1.0   \n",
       "1                      0.0                    0.0                       1.0   \n",
       "2                      0.0                    0.0                       1.0   \n",
       "3                      0.0                    0.0                       1.0   \n",
       "4                      0.0                    0.0                       1.0   \n",
       "\n",
       "   Atmosphere metals-rich  Atmosphere no-atmosphere  \n",
       "0                     0.0                       0.0  \n",
       "1                     0.0                       0.0  \n",
       "2                     0.0                       0.0  \n",
       "3                     0.0                       0.0  \n",
       "4                     0.0                       0.0  "
      ]
     },
     "execution_count": 400,
     "metadata": {},
     "output_type": "execute_result"
    }
   ],
   "source": [
    "planets.head()"
   ]
  },
  {
   "cell_type": "markdown",
   "metadata": {},
   "source": [
    "### Divisione del Dataset"
   ]
  },
  {
   "cell_type": "markdown",
   "metadata": {},
   "source": [
    "Dividiamo il dataset in set training e set di test"
   ]
  },
  {
   "cell_type": "code",
   "execution_count": 401,
   "metadata": {},
   "outputs": [],
   "source": [
    "# TODO fare una copia forse\n",
    "cols_to_drop = [\"P. Composition Class\", \"P. Atmosphere Class\",\"P. Habitable Class\"]\n",
    "\n",
    "planets = planets.drop(cols_to_drop, axis=1)"
   ]
  },
  {
   "cell_type": "code",
   "execution_count": 402,
   "metadata": {},
   "outputs": [],
   "source": [
    "target_features = ['new P. Habitable Class']\n",
    "\n",
    "# X: set di samples con le input features\n",
    "# y: set di samples con la target feature\n",
    "\n",
    "X = planets.drop(target_features, axis=1)\n",
    "y = planets[target_features]\n",
    "\n"
   ]
  },
  {
   "cell_type": "code",
   "execution_count": 403,
   "metadata": {},
   "outputs": [],
   "source": [
    "X_train, X_test, y_train, y_test = train_test_split(X,y, test_size=0.2, stratify=y, random_state=11)\n"
   ]
  },
  {
   "cell_type": "markdown",
   "metadata": {},
   "source": [
    "## Costruzione dei modelli & Addestramento"
   ]
  },
  {
   "cell_type": "markdown",
   "metadata": {},
   "source": [
    "### Classificazione con  DecisionTreeClassifier"
   ]
  },
  {
   "cell_type": "markdown",
   "metadata": {},
   "source": [
    "Creiamo un pipeline dove vengono svolte in maniere consequenziale le seguenti azioni:\n",
    "\n",
    "1. SMOTE  un'operazione di l'oversampling sul set di training\n",
    "2. Scaler un'operazione di normalizzazione\n",
    "3. Classifier è definito il modello che verrà utilizzito per l'apprendimento, in questo caso il Decision Tree Classifier"
   ]
  },
  {
   "cell_type": "code",
   "execution_count": 404,
   "metadata": {},
   "outputs": [],
   "source": [
    "pipeline = imbpipeline(steps = [['smote', SMOTE(random_state=11)],\n",
    "                                ['scaler', MinMaxScaler()],\n",
    "                                ['classifier', DecisionTreeClassifier(random_state=11)]])"
   ]
  },
  {
   "cell_type": "markdown",
   "metadata": {},
   "source": [
    "Creiamo un'istanza della classe **StratifiedKFold** che ci permette di andare a definire un tipo di Cross Validation"
   ]
  },
  {
   "cell_type": "code",
   "execution_count": 405,
   "metadata": {},
   "outputs": [],
   "source": [
    "stratified_kfold = StratifiedKFold(n_splits=3,\n",
    "                                       shuffle=True,\n",
    "                                       random_state=12)"
   ]
  },
  {
   "cell_type": "markdown",
   "metadata": {},
   "source": [
    "Definiamo l'insieme degli iper-parametri, su cui verrà effettuato un tuning durante la fase di test."
   ]
  },
  {
   "cell_type": "markdown",
   "metadata": {},
   "source": [
    "Definiamo anche un'istanza di **GridSearchCV**, che ci permetterà ci combinare la cross validation con la pipeline."
   ]
  },
  {
   "cell_type": "code",
   "execution_count": 406,
   "metadata": {},
   "outputs": [],
   "source": [
    "\n",
    "# in param_grid sono definiti gli iperparametri\n",
    "param_grid = {\n",
    "    'criterion':['gini', 'entropy'],\n",
    "    'max_depth':range(1,10),\n",
    "    'min_samples_split':range(2,10),\n",
    "    'min_samples_leaf':range(1,5)    \n",
    "}\n",
    "new_params = {'classifier__' + key: param_grid[key] for key in param_grid}\n",
    "\n",
    "\n",
    "# permette di provare tutte le combinazioni degli iper parametri in modo tale da ottenre \n",
    "# i valori ottimali per il modello\n",
    "# quindi itera per ogni fold creata sugli iperparametri \n",
    "# Niper = numero iper paratri                   \n",
    "# Nfold = numero fold\n",
    "# Viper = values per ogni per parametro\n",
    "\n",
    "grid_search = GridSearchCV(estimator=pipeline,\n",
    "                           param_grid=new_params,\n",
    "                           scoring='accuracy',\n",
    "                           cv=stratified_kfold,\n",
    "                           verbose = 5,\n",
    "                           n_jobs=-1) # utilizzerà tutti i processori disponibili"
   ]
  },
  {
   "cell_type": "markdown",
   "metadata": {},
   "source": [
    "Adattiamo il nostro modello di training sul set di training e runniamo la funzione **grid_search.fit**, al termine della quale otterremo il modello migliore."
   ]
  },
  {
   "cell_type": "markdown",
   "metadata": {},
   "source": [
    "Passiamo in seguito alla fase di test e prediciamo le classi di abitabilità sui campioni X_test."
   ]
  },
  {
   "cell_type": "code",
   "execution_count": 407,
   "metadata": {},
   "outputs": [
    {
     "name": "stdout",
     "output_type": "stream",
     "text": [
      "Fitting 3 folds for each of 576 candidates, totalling 1728 fits\n",
      "Best parameters: {'classifier__criterion': 'gini', 'classifier__max_depth': 4, 'classifier__min_samples_leaf': 1, 'classifier__min_samples_split': 4}\n",
      "Cross-validation score: 0.997415080815144\n"
     ]
    }
   ],
   "source": [
    "# troviamo il modello migliore\n",
    "grid_search.fit(X_train, y_train)\n",
    "cv_score = grid_search.best_score_\n",
    "best_params = grid_search.best_params_\n",
    "\n",
    "print(f'Best parameters: {best_params}')\n",
    "print(f'Cross-validation score: {cv_score}')\n",
    "# effetuamo la predizione sul set di test\n",
    "y_test_predict = grid_search.predict(X_test)\n"
   ]
  },
  {
   "cell_type": "markdown",
   "metadata": {},
   "source": [
    "Valutiamo il modello sulle seguenti metriche:\n",
    "- accuracy\n",
    "- recall\n",
    "- precision\n",
    "- f1\n",
    "- matthews correlation coefficent\n",
    "- geometric mean score\n"
   ]
  },
  {
   "cell_type": "code",
   "execution_count": 408,
   "metadata": {},
   "outputs": [
    {
     "name": "stdout",
     "output_type": "stream",
     "text": [
      "accuracy: 0.9948320413436692\n",
      "precision: 0.75\n",
      "recall: 0.8324607329842931\n",
      "f1: 0.7852774137177807\n",
      "matthews_corrcoef: 0.8197002684542365\n",
      "geometric_mean_score: 0.9116015388298121\n"
     ]
    },
    {
     "data": {
      "text/plain": [
       "[]"
      ]
     },
     "execution_count": 408,
     "metadata": {},
     "output_type": "execute_result"
    },
    {
     "data": {
      "image/png": "[encoded data removed]",
      "text/plain": [
       "<Figure size 432x288 with 2 Axes>"
      ]
     },
     "metadata": {},
     "output_type": "display_data"
    }
   ],
   "source": [
    "# calcoliamo le metriche di valutazione\n",
    "accuracy = accuracy_score(y_test, y_test_predict)\n",
    "precision = precision_score(y_test, y_test_predict, average='macro')\n",
    "recall = recall_score(y_test, y_test_predict, average='macro')\n",
    "f1 = f1_score(y_test, y_test_predict, average='macro')\n",
    "mcc = matthews_corrcoef(y_test, y_test_predict)\n",
    "gm = geometric_mean_score(y_test, y_test_predict, average='macro')\n",
    "ConfusionMatrixDisplay.from_predictions(y_test, \n",
    "                                        y_test_predict, \n",
    "                                        cmap=plt.cm.Blues)\n",
    "\n",
    "print(f'accuracy: {accuracy}')\n",
    "print(f'precision: {precision}')\n",
    "print(f'recall: {recall}')\n",
    "print(f'f1: {f1}')\n",
    "print(f'matthews_corrcoef: {mcc}')\n",
    "print(f'geometric_mean_score: {gm}')\n",
    "\n",
    "plt.plot()\n",
    "\n"
   ]
  },
  {
   "cell_type": "code",
   "execution_count": 409,
   "metadata": {},
   "outputs": [],
   "source": [
    "scoring_list = []\n",
    "scoring_list.append(dict([\n",
    "    ('Model', 'DecisionTreeClassifier'),\n",
    "    ('Train Accuracy', round(cv_score, 3)),\n",
    "    ('Test Accuracy', round(accuracy, 3)),\n",
    "    ('Precision', round(precision, 3)),\n",
    "    ('Recall', round(recall, 3)),\n",
    "    ('F1', round(f1, 3)),\n",
    "    ('Matthews Corrcoef', round(mcc,3)),\n",
    "    ('Geometric Mean Score', round(gm, 3))\n",
    "     ]))"
   ]
  },
  {
   "cell_type": "markdown",
   "metadata": {},
   "source": [
    "### Classificazione con  Naive Bayes"
   ]
  },
  {
   "cell_type": "code",
   "execution_count": 410,
   "metadata": {},
   "outputs": [],
   "source": [
    "pipeline = imbpipeline(steps = [['smote', SMOTE(random_state=11)],\n",
    "                                ['scaler', MinMaxScaler()],\n",
    "                                ['classifier', GaussianNB()]]) "
   ]
  },
  {
   "cell_type": "code",
   "execution_count": 411,
   "metadata": {},
   "outputs": [],
   "source": [
    "stratified_kfold = StratifiedKFold(n_splits=3,\n",
    "                                       shuffle=True,\n",
    "                                       random_state=12)"
   ]
  },
  {
   "cell_type": "markdown",
   "metadata": {},
   "source": [
    "Non avendo questo modello degli iper-parametri l'insieme dei parametri sarà vuoto."
   ]
  },
  {
   "cell_type": "code",
   "execution_count": 412,
   "metadata": {},
   "outputs": [],
   "source": [
    "# in param_grid sono definiti gli iperparametri\n",
    "param_grid = {}\n",
    "\n",
    "grid_search = GridSearchCV(estimator=pipeline,\n",
    "                           param_grid=param_grid,\n",
    "                           scoring='accuracy',\n",
    "                           cv=stratified_kfold,\n",
    "                           verbose = 5,\n",
    "                           n_jobs=-1) # utilizzerà tutti i processori disponibili"
   ]
  },
  {
   "cell_type": "code",
   "execution_count": 413,
   "metadata": {},
   "outputs": [
    {
     "name": "stdout",
     "output_type": "stream",
     "text": [
      "Fitting 3 folds for each of 1 candidates, totalling 3 fits\n"
     ]
    }
   ],
   "source": [
    "# troviamo il modello migliore\n",
    "grid_search.fit(X_train, y_train.values.ravel())\n",
    "\n",
    "cv_score = grid_search.best_score_\n",
    "\n",
    "# effetuamo la predizione sul set di test\n",
    "y_test_predict = grid_search.predict(X_test)\n"
   ]
  },
  {
   "cell_type": "code",
   "execution_count": 414,
   "metadata": {},
   "outputs": [
    {
     "name": "stdout",
     "output_type": "stream",
     "text": [
      "accuracy: 0.9922480620155039\n",
      "precision: 0.6944444444444445\n",
      "recall: 0.831588132635253\n",
      "f1: 0.7515060617422823\n",
      "matthews_corrcoef: 0.7579632427016252\n",
      "geometric_mean_score: 0.9107284383867313\n"
     ]
    },
    {
     "data": {
      "text/plain": [
       "[]"
      ]
     },
     "execution_count": 414,
     "metadata": {},
     "output_type": "execute_result"
    },
    {
     "data": {
      "image/png": "[encoded data removed]",
      "text/plain": [
       "<Figure size 432x288 with 2 Axes>"
      ]
     },
     "metadata": {},
     "output_type": "display_data"
    }
   ],
   "source": [
    "# calcoliamo le metriche di valutazione\n",
    "accuracy = accuracy_score(y_test, y_test_predict)\n",
    "precision = precision_score(y_test, y_test_predict, average='macro')\n",
    "recall = recall_score(y_test, y_test_predict, average='macro')\n",
    "f1 = f1_score(y_test, y_test_predict, average='macro')\n",
    "mcc = matthews_corrcoef(y_test, y_test_predict)\n",
    "gm = geometric_mean_score(y_test, y_test_predict, average='macro')\n",
    "ConfusionMatrixDisplay.from_predictions(y_test, \n",
    "                                        y_test_predict, \n",
    "                                        cmap=plt.cm.Blues)\n",
    "\n",
    "print(f'accuracy: {accuracy}')\n",
    "print(f'precision: {precision}')\n",
    "print(f'recall: {recall}')\n",
    "print(f'f1: {f1}')\n",
    "print(f'matthews_corrcoef: {mcc}')\n",
    "print(f'geometric_mean_score: {gm}')\n",
    "\n",
    "plt.plot()"
   ]
  },
  {
   "cell_type": "code",
   "execution_count": 415,
   "metadata": {},
   "outputs": [],
   "source": [
    "scoring_list.append(dict([\n",
    "    ('Model', 'Naive Bayes'),\n",
    "    ('Train Accuracy', round(cv_score, 3)),\n",
    "    ('Test Accuracy', round(accuracy, 3)),\n",
    "    ('Precision', round(precision, 3)),\n",
    "    ('Recall', round(recall, 3)),\n",
    "    ('F1', round(f1, 3)),\n",
    "    ('Matthews Corrcoef', round(mcc,3)),\n",
    "    ('Geometric Mean Score', round(gm, 3))\n",
    "     ]))"
   ]
  },
  {
   "cell_type": "markdown",
   "metadata": {},
   "source": [
    "### Classificazione con  RandomForest"
   ]
  },
  {
   "cell_type": "code",
   "execution_count": 416,
   "metadata": {},
   "outputs": [],
   "source": [
    "pipeline = imbpipeline(steps = [['smote', SMOTE(random_state=11)],\n",
    "                                ['scaler', MinMaxScaler()],\n",
    "                                ['classifier', RandomForestClassifier(max_depth=None, random_state=None)]]) #decidete se mettere qualche parametro"
   ]
  },
  {
   "cell_type": "code",
   "execution_count": 417,
   "metadata": {},
   "outputs": [],
   "source": [
    "stratified_kfold = StratifiedKFold(n_splits=3,\n",
    "                                       shuffle=True,\n",
    "                                       random_state=12)"
   ]
  },
  {
   "cell_type": "code",
   "execution_count": 418,
   "metadata": {},
   "outputs": [],
   "source": [
    "# in param_grid sono definiti gli iperparametri\n",
    "param_grid = {\n",
    "                'n_estimators': [50, 100, 200],\n",
    "                'max_depth': [4, 6, 10, 12],\n",
    "                }\n",
    "\n",
    "new_params = {'classifier__' + key: param_grid[key] for key in param_grid}\n",
    "\n",
    "grid_search = GridSearchCV(estimator=pipeline,\n",
    "                           param_grid=new_params,\n",
    "                           scoring='accuracy',\n",
    "                           cv=stratified_kfold,\n",
    "                           verbose = 5,\n",
    "                           n_jobs=-1) # utilizzerà tutti i processori disponibili"
   ]
  },
  {
   "cell_type": "code",
   "execution_count": 419,
   "metadata": {},
   "outputs": [
    {
     "name": "stdout",
     "output_type": "stream",
     "text": [
      "Fitting 3 folds for each of 12 candidates, totalling 36 fits\n",
      "Best parameters: {'classifier__max_depth': 4, 'classifier__n_estimators': 50}\n",
      "Cross-validation score: 0.9983843863487696\n"
     ]
    }
   ],
   "source": [
    "# troviamo il modello migliore\n",
    "grid_search.fit(X_train, y_train.values.ravel())\n",
    "\n",
    "cv_score = grid_search.best_score_\n",
    "best_params = grid_search.best_params_\n",
    "\n",
    "print(f'Best parameters: {best_params}')\n",
    "print(f'Cross-validation score: {cv_score}')\n",
    "\n",
    "# effetuamo la predizione sul set di test\n",
    "y_test_predict = grid_search.predict(X_test)"
   ]
  },
  {
   "cell_type": "code",
   "execution_count": 420,
   "metadata": {},
   "outputs": [
    {
     "name": "stdout",
     "output_type": "stream",
     "text": [
      "accuracy: 0.9987080103359173\n",
      "precision: 0.9523809523809524\n",
      "recall: 0.9166666666666666\n",
      "f1: 0.9267399267399267\n",
      "matthews_corrcoef: 0.9495595614242498\n",
      "geometric_mean_score: 0.9572193102264341\n"
     ]
    },
    {
     "data": {
      "text/plain": [
       "[]"
      ]
     },
     "execution_count": 420,
     "metadata": {},
     "output_type": "execute_result"
    },
    {
     "data": {
      "image/png": "[encoded data removed]",
      "text/plain": [
       "<Figure size 432x288 with 2 Axes>"
      ]
     },
     "metadata": {},
     "output_type": "display_data"
    }
   ],
   "source": [
    "# calcoliamo le metriche di valutazione\n",
    "accuracy = accuracy_score(y_test, y_test_predict)\n",
    "precision = precision_score(y_test, y_test_predict, average='macro')\n",
    "recall = recall_score(y_test, y_test_predict, average='macro')\n",
    "f1 = f1_score(y_test, y_test_predict, average='macro')\n",
    "mcc = matthews_corrcoef(y_test, y_test_predict)\n",
    "gm = geometric_mean_score(y_test, y_test_predict, average='macro')\n",
    "ConfusionMatrixDisplay.from_predictions(y_test, \n",
    "                                        y_test_predict, \n",
    "                                        cmap=plt.cm.Blues)\n",
    "\n",
    "print(f'accuracy: {accuracy}')\n",
    "print(f'precision: {precision}')\n",
    "print(f'recall: {recall}')\n",
    "print(f'f1: {f1}')\n",
    "print(f'matthews_corrcoef: {mcc}')\n",
    "print(f'geometric_mean_score: {gm}')\n",
    "\n",
    "plt.plot()"
   ]
  },
  {
   "cell_type": "code",
   "execution_count": 421,
   "metadata": {},
   "outputs": [],
   "source": [
    "scoring_list.append(dict([\n",
    "    ('Model', 'RandomForest'),\n",
    "    ('Train Accuracy', round(cv_score, 3)),\n",
    "    ('Test Accuracy', round(accuracy, 3)),\n",
    "    ('Precision', round(precision, 3)),\n",
    "    ('Recall', round(recall, 3)),\n",
    "    ('F1', round(f1, 3)),\n",
    "    ('Matthews Corrcoef', round(mcc,3)),\n",
    "    ('Geometric Mean Score', round(gm, 3))\n",
    "     ]))"
   ]
  },
  {
   "cell_type": "markdown",
   "metadata": {},
   "source": [
    "### Classificazione con Gradient Boosting"
   ]
  },
  {
   "cell_type": "code",
   "execution_count": 422,
   "metadata": {},
   "outputs": [],
   "source": [
    "pipeline = imbpipeline(steps = [['smote', SMOTE(random_state=11)],\n",
    "                                ['scaler', MinMaxScaler()],\n",
    "                                ['classifier',GradientBoostingClassifier(n_estimators=100,\n",
    "                                                                         learning_rate=1.0,\n",
    "                                                                         max_depth=1, \n",
    "                                                                         random_state=11)]]) #decidete se mettere qualche parametro"
   ]
  },
  {
   "cell_type": "code",
   "execution_count": 423,
   "metadata": {},
   "outputs": [],
   "source": [
    "stratified_kfold = StratifiedKFold(n_splits=3,\n",
    "                                       shuffle=True,\n",
    "                                       random_state=12)"
   ]
  },
  {
   "cell_type": "code",
   "execution_count": 424,
   "metadata": {},
   "outputs": [],
   "source": [
    "# in param_grid sono definiti gli iperparametri\n",
    "param_grid = {   \n",
    "              'max_depth': range (2, 10, 1),\n",
    "              'n_estimators': range(60, 220, 40),\n",
    "              'learning_rate': [0.1, 0.01, 0.05]\n",
    "              }\n",
    "\n",
    "new_params = {'classifier__' + key: param_grid[key] for key in param_grid}\n",
    "\n",
    "# TODO verificare per quale motivo non funzionano le altre metriche\n",
    "grid_search = GridSearchCV(estimator=pipeline,\n",
    "                           param_grid=new_params,\n",
    "                           scoring='accuracy',\n",
    "                           cv=stratified_kfold,\n",
    "                           verbose = 5,\n",
    "                           n_jobs=-1) # utilizzerà tutti i processori disponibili"
   ]
  },
  {
   "cell_type": "code",
   "execution_count": 425,
   "metadata": {},
   "outputs": [
    {
     "name": "stdout",
     "output_type": "stream",
     "text": [
      "Fitting 3 folds for each of 96 candidates, totalling 288 fits\n",
      "Best parameters: {'classifier__learning_rate': 0.05, 'classifier__max_depth': 4, 'classifier__n_estimators': 100}\n",
      "Cross-validation score: 0.9980617022183124\n"
     ]
    }
   ],
   "source": [
    "# troviamo il modello migliore\n",
    "grid_search.fit(X_train, y_train.values.ravel())\n",
    "\n",
    "cv_score = grid_search.best_score_\n",
    "best_params = grid_search.best_params_\n",
    "\n",
    "print(f'Best parameters: {best_params}')\n",
    "print(f'Cross-validation score: {cv_score}')\n",
    "\n",
    "# effetuamo la predizione sul set di test\n",
    "y_test_predict = grid_search.predict(X_test)"
   ]
  },
  {
   "cell_type": "code",
   "execution_count": 426,
   "metadata": {},
   "outputs": [
    {
     "name": "stdout",
     "output_type": "stream",
     "text": [
      "accuracy: 0.9974160206718347\n",
      "precision: 0.9166666666666666\n",
      "recall: 0.9162303664921465\n",
      "f1: 0.904543611812767\n",
      "matthews_corrcoef: 0.9049164998345826\n",
      "geometric_mean_score: 0.9567836890501136\n"
     ]
    },
    {
     "data": {
      "text/plain": [
       "[]"
      ]
     },
     "execution_count": 426,
     "metadata": {},
     "output_type": "execute_result"
    },
    {
     "data": {
      "image/png": "[encoded data removed]",
      "text/plain": [
       "<Figure size 432x288 with 2 Axes>"
      ]
     },
     "metadata": {},
     "output_type": "display_data"
    }
   ],
   "source": [
    "# calcoliamo le metriche di valutazione\n",
    "accuracy = accuracy_score(y_test, y_test_predict)\n",
    "precision = precision_score(y_test, y_test_predict, average='macro')\n",
    "recall = recall_score(y_test, y_test_predict, average='macro')\n",
    "f1 = f1_score(y_test, y_test_predict, average='macro')\n",
    "mcc = matthews_corrcoef(y_test, y_test_predict)\n",
    "gm = geometric_mean_score(y_test, y_test_predict, average='macro')\n",
    "ConfusionMatrixDisplay.from_predictions(y_test, \n",
    "                                        y_test_predict, \n",
    "                                        cmap=plt.cm.Blues)\n",
    "\n",
    "print(f'accuracy: {accuracy}')\n",
    "print(f'precision: {precision}')\n",
    "print(f'recall: {recall}')\n",
    "print(f'f1: {f1}')\n",
    "print(f'matthews_corrcoef: {mcc}')\n",
    "print(f'geometric_mean_score: {gm}')\n",
    "\n",
    "plt.plot()"
   ]
  },
  {
   "cell_type": "code",
   "execution_count": 427,
   "metadata": {},
   "outputs": [],
   "source": [
    "scoring_list.append(dict([\n",
    "    ('Model', 'Gradient Boosting'),\n",
    "    ('Train Accuracy', round(cv_score, 3)),\n",
    "    ('Test Accuracy', round(accuracy, 3)),\n",
    "    ('Precision', round(precision, 3)),\n",
    "    ('Recall', round(recall, 3)),\n",
    "    ('F1', round(f1, 3)),\n",
    "    ('Matthews Corrcoef', round(mcc,3)),\n",
    "    ('Geometric Mean Score', round(gm, 3))\n",
    "     ]))"
   ]
  },
  {
   "cell_type": "markdown",
   "metadata": {},
   "source": [
    "### Classificazione con SVM"
   ]
  },
  {
   "cell_type": "code",
   "execution_count": 428,
   "metadata": {},
   "outputs": [],
   "source": [
    "pipeline = imbpipeline(steps = [['smote', SMOTE(random_state=11)],\n",
    "                                ['scaler', MinMaxScaler()],\n",
    "                                ['classifier',SVC(kernel=None,\n",
    "                                                  gamma=None, \n",
    "                                                  C=None)]]) #decidete se mettere qualche parametro cambiare parametri con iper parametri"
   ]
  },
  {
   "cell_type": "code",
   "execution_count": 429,
   "metadata": {},
   "outputs": [],
   "source": [
    "stratified_kfold = StratifiedKFold(n_splits=3,\n",
    "                                       shuffle=True,\n",
    "                                       random_state=11)"
   ]
  },
  {
   "cell_type": "code",
   "execution_count": 430,
   "metadata": {},
   "outputs": [],
   "source": [
    "# in param_grid sono definiti gli iperparametri\n",
    "param_grid = {'C': [0.1, 1, 10, 100, 1000], \n",
    "              'gamma': [1, 0.1, 0.01, 0.001, 0.0001],\n",
    "              'kernel': ['rbf']\n",
    "              }\n",
    "\n",
    "new_params = {'classifier__' + key: param_grid[key] for key in param_grid}\n",
    "\n",
    "grid_search = GridSearchCV(estimator=pipeline,\n",
    "                           param_grid=new_params,\n",
    "                           scoring='accuracy',\n",
    "                           cv=stratified_kfold,\n",
    "                           verbose = 5,\n",
    "                           n_jobs=-1) # utilizzerà tutti i processori disponibili"
   ]
  },
  {
   "cell_type": "code",
   "execution_count": 431,
   "metadata": {},
   "outputs": [
    {
     "name": "stdout",
     "output_type": "stream",
     "text": [
      "Fitting 3 folds for each of 25 candidates, totalling 75 fits\n",
      "Best parameters: {'classifier__C': 10, 'classifier__gamma': 0.1, 'classifier__kernel': 'rbf'}\n",
      "Cross-validation score: 0.9964457752815185\n"
     ]
    }
   ],
   "source": [
    "# troviamo il modello migliore\n",
    "grid_search.fit(X_train, y_train.values.ravel())\n",
    "\n",
    "cv_score = grid_search.best_score_\n",
    "best_params = grid_search.best_params_\n",
    "\n",
    "print(f'Best parameters: {best_params}')\n",
    "print(f'Cross-validation score: {cv_score}')\n",
    "\n",
    "# effetuamo la predizione sul set di test\n",
    "y_test_predict = grid_search.predict(X_test)"
   ]
  },
  {
   "cell_type": "code",
   "execution_count": 432,
   "metadata": {},
   "outputs": [
    {
     "name": "stdout",
     "output_type": "stream",
     "text": [
      "accuracy: 0.9961240310077519\n",
      "precision: 0.8888888888888888\n",
      "recall: 0.75\n",
      "f1: 0.7333333333333334\n",
      "matthews_corrcoef: 0.8489522782601875\n",
      "geometric_mean_score: 0.8654614015078893\n"
     ]
    },
    {
     "data": {
      "text/plain": [
       "[]"
      ]
     },
     "execution_count": 432,
     "metadata": {},
     "output_type": "execute_result"
    },
    {
     "data": {
      "image/png": "[encoded data removed]",
      "text/plain": [
       "<Figure size 432x288 with 2 Axes>"
      ]
     },
     "metadata": {},
     "output_type": "display_data"
    }
   ],
   "source": [
    "# calcoliamo le metriche di valutazione\n",
    "accuracy = accuracy_score(y_test, y_test_predict)\n",
    "precision = precision_score(y_test, y_test_predict, average='macro')\n",
    "recall = recall_score(y_test, y_test_predict, average='macro')\n",
    "f1 = f1_score(y_test, y_test_predict, average='macro')\n",
    "mcc = matthews_corrcoef(y_test, y_test_predict)\n",
    "gm = geometric_mean_score(y_test, y_test_predict, average='macro')\n",
    "ConfusionMatrixDisplay.from_predictions(y_test, \n",
    "                                        y_test_predict, \n",
    "                                        cmap=plt.cm.Blues)\n",
    "\n",
    "print(f'accuracy: {accuracy}')\n",
    "print(f'precision: {precision}')\n",
    "print(f'recall: {recall}')\n",
    "print(f'f1: {f1}')\n",
    "print(f'matthews_corrcoef: {mcc}')\n",
    "print(f'geometric_mean_score: {gm}')\n",
    "\n",
    "plt.plot()"
   ]
  },
  {
   "cell_type": "code",
   "execution_count": 433,
   "metadata": {},
   "outputs": [],
   "source": [
    "scoring_list.append(dict([\n",
    "    ('Model', 'SVM'),\n",
    "    ('Train Accuracy', round(cv_score, 3)),\n",
    "    ('Test Accuracy', round(accuracy, 3)),\n",
    "    ('Precision', round(precision, 3)),\n",
    "    ('Recall', round(recall, 3)),\n",
    "    ('F1', round(f1, 3)),\n",
    "    ('Matthews Corrcoef', round(mcc,3)),\n",
    "    ('Geometric Mean Score', round(gm, 3))\n",
    "     ]))\n"
   ]
  },
  {
   "cell_type": "markdown",
   "metadata": {},
   "source": [
    "## Confronto Riassuntivo"
   ]
  },
  {
   "cell_type": "markdown",
   "metadata": {},
   "source": [
    "Ora confrontiamo i vari modelli secondo le metriche usate\n"
   ]
  },
  {
   "cell_type": "code",
   "execution_count": 434,
   "metadata": {},
   "outputs": [
    {
     "data": {
      "text/html": [
       "<div>\n",
       "<style scoped>\n",
       "    .dataframe tbody tr th:only-of-type {\n",
       "        vertical-align: middle;\n",
       "    }\n",
       "\n",
       "    .dataframe tbody tr th {\n",
       "        vertical-align: top;\n",
       "    }\n",
       "\n",
       "    .dataframe thead th {\n",
       "        text-align: right;\n",
       "    }\n",
       "</style>\n",
       "<table border=\"1\" class=\"dataframe\">\n",
       "  <thead>\n",
       "    <tr style=\"text-align: right;\">\n",
       "      <th></th>\n",
       "      <th>Model</th>\n",
       "      <th>Train Accuracy</th>\n",
       "      <th>Test Accuracy</th>\n",
       "      <th>Precision</th>\n",
       "      <th>Recall</th>\n",
       "      <th>F1</th>\n",
       "      <th>Matthews Corrcoef</th>\n",
       "      <th>Geometric Mean Score</th>\n",
       "    </tr>\n",
       "  </thead>\n",
       "  <tbody>\n",
       "    <tr>\n",
       "      <th>2</th>\n",
       "      <td>RandomForest</td>\n",
       "      <td>0.998</td>\n",
       "      <td>0.999</td>\n",
       "      <td>0.952</td>\n",
       "      <td>0.917</td>\n",
       "      <td>0.927</td>\n",
       "      <td>0.950</td>\n",
       "      <td>0.957</td>\n",
       "    </tr>\n",
       "    <tr>\n",
       "      <th>3</th>\n",
       "      <td>Gradient Boosting</td>\n",
       "      <td>0.998</td>\n",
       "      <td>0.997</td>\n",
       "      <td>0.917</td>\n",
       "      <td>0.916</td>\n",
       "      <td>0.905</td>\n",
       "      <td>0.905</td>\n",
       "      <td>0.957</td>\n",
       "    </tr>\n",
       "    <tr>\n",
       "      <th>0</th>\n",
       "      <td>DecisionTreeClassifier</td>\n",
       "      <td>0.997</td>\n",
       "      <td>0.995</td>\n",
       "      <td>0.750</td>\n",
       "      <td>0.832</td>\n",
       "      <td>0.785</td>\n",
       "      <td>0.820</td>\n",
       "      <td>0.912</td>\n",
       "    </tr>\n",
       "    <tr>\n",
       "      <th>1</th>\n",
       "      <td>Naive Bayes</td>\n",
       "      <td>0.991</td>\n",
       "      <td>0.992</td>\n",
       "      <td>0.694</td>\n",
       "      <td>0.832</td>\n",
       "      <td>0.752</td>\n",
       "      <td>0.758</td>\n",
       "      <td>0.911</td>\n",
       "    </tr>\n",
       "    <tr>\n",
       "      <th>4</th>\n",
       "      <td>SVM</td>\n",
       "      <td>0.996</td>\n",
       "      <td>0.996</td>\n",
       "      <td>0.889</td>\n",
       "      <td>0.750</td>\n",
       "      <td>0.733</td>\n",
       "      <td>0.849</td>\n",
       "      <td>0.865</td>\n",
       "    </tr>\n",
       "  </tbody>\n",
       "</table>\n",
       "</div>"
      ],
      "text/plain": [
       "                    Model  Train Accuracy  Test Accuracy  Precision  Recall  \\\n",
       "2            RandomForest           0.998          0.999      0.952   0.917   \n",
       "3       Gradient Boosting           0.998          0.997      0.917   0.916   \n",
       "0  DecisionTreeClassifier           0.997          0.995      0.750   0.832   \n",
       "1             Naive Bayes           0.991          0.992      0.694   0.832   \n",
       "4                     SVM           0.996          0.996      0.889   0.750   \n",
       "\n",
       "      F1  Matthews Corrcoef  Geometric Mean Score  \n",
       "2  0.927              0.950                 0.957  \n",
       "3  0.905              0.905                 0.957  \n",
       "0  0.785              0.820                 0.912  \n",
       "1  0.752              0.758                 0.911  \n",
       "4  0.733              0.849                 0.865  "
      ]
     },
     "execution_count": 434,
     "metadata": {},
     "output_type": "execute_result"
    }
   ],
   "source": [
    "results = pd.DataFrame(data=scoring_list)\n",
    "results = results[['Model',\n",
    "                   'Train Accuracy',\n",
    "                   'Test Accuracy',\n",
    "                   'Precision',\n",
    "                   'Recall',\n",
    "                   'F1',\n",
    "                   'Matthews Corrcoef',\n",
    "                   'Geometric Mean Score']]\n",
    "\n",
    "results = results.sort_values(by='Recall', ascending=False)\n",
    "\n",
    "results\n"
   ]
  },
  {
   "cell_type": "code",
   "execution_count": 435,
   "metadata": {},
   "outputs": [
    {
     "data": {
      "image/png": "[encoded data removed]",
      "text/plain": [
       "<Figure size 432x288 with 1 Axes>"
      ]
     },
     "metadata": {},
     "output_type": "display_data"
    }
   ],
   "source": [
    "with sns.axes_style(\"darkgrid\"):\n",
    "    sns.barplot(data = results,\n",
    "                x=results['Model'],\n",
    "                y=results['Precision'],\n",
    "                palette = 'inferno').set(title = \"Confronto Classificatori - Precision\")"
   ]
  },
  {
   "cell_type": "code",
   "execution_count": 439,
   "metadata": {},
   "outputs": [
    {
     "data": {
      "image/png": "[encoded data removed]",
      "text/plain": [
       "<Figure size 432x288 with 1 Axes>"
      ]
     },
     "metadata": {},
     "output_type": "display_data"
    }
   ],
   "source": [
    "with sns.axes_style(\"darkgrid\"):\n",
    "    sns.barplot(data = results,\n",
    "                x=results['Model'],\n",
    "                y=results['Recall'],\n",
    "                palette = 'inferno').set(title = \"Confronto Classificatori - Recall\")"
   ]
  },
  {
   "cell_type": "code",
   "execution_count": 436,
   "metadata": {},
   "outputs": [
    {
     "data": {
      "image/png": "[encoded data removed]",
      "text/plain": [
       "<Figure size 432x288 with 1 Axes>"
      ]
     },
     "metadata": {},
     "output_type": "display_data"
    }
   ],
   "source": [
    "with sns.axes_style(\"darkgrid\"):\n",
    "    sns.barplot(data = results,\n",
    "                x=results['Model'],\n",
    "                y=results['F1'],\n",
    "                palette = 'inferno').set(title = \"Confronto Classificatori - F1\")"
   ]
  },
  {
   "cell_type": "code",
   "execution_count": 437,
   "metadata": {},
   "outputs": [
    {
     "data": {
      "image/png": "[encoded data removed]",
      "text/plain": [
       "<Figure size 432x288 with 1 Axes>"
      ]
     },
     "metadata": {},
     "output_type": "display_data"
    }
   ],
   "source": [
    "with sns.axes_style(\"darkgrid\"):\n",
    "    sns.barplot(data = results,\n",
    "                x=results['Model'],\n",
    "                y=results['Matthews Corrcoef'],\n",
    "                palette = 'inferno').set(title = \"Confronto Classificatori - Matthews Corrcoef\")"
   ]
  },
  {
   "cell_type": "code",
   "execution_count": 438,
   "metadata": {},
   "outputs": [
    {
     "data": {
      "image/png": "[encoded data removed]",
      "text/plain": [
       "<Figure size 432x288 with 1 Axes>"
      ]
     },
     "metadata": {},
     "output_type": "display_data"
    }
   ],
   "source": [
    "with sns.axes_style(\"darkgrid\"):\n",
    "    sns.barplot(data = results,\n",
    "                x=results['Model'],\n",
    "                y=results['Geometric Mean Score'],\n",
    "                palette = 'inferno').set(title = \"Confronto Classificatori - Geometric Mean Score\" )"
   ]
  },
  {
   "cell_type": "markdown",
   "metadata": {},
   "source": [
    "Come si evince dai grafici precedenti il modello migliore è risultato il **Random\n",
    "Forest**, sebbene nel complesso si siano comportati tutti ottimamente.\n",
    "Unica eccezione è Gradient Boost, il quale sebbene abbia avuto anche esso degli\n",
    "ottimi risultati, la fase di apprendimento ha impiegato un quantità risorse(tempo)\n",
    "eccessiva"
   ]
  }
 ],
 "metadata": {
  "kernelspec": {
   "display_name": "Python 3.8.3 ('base')",
   "language": "python",
   "name": "python3"
  },
  "language_info": {
   "codemirror_mode": {
    "name": "ipython",
    "version": 3
   },
   "file_extension": ".py",
   "mimetype": "text/x-python",
   "name": "python",
   "nbconvert_exporter": "python",
   "pygments_lexer": "ipython3",
   "version": "3.8.3"
  },
  "orig_nbformat": 4,
  "vscode": {
   "interpreter": {
    "hash": "ad2bdc8ecc057115af97d19610ffacc2b4e99fae6737bb82f5d7fb13d2f2c186"
   }
  }
 },
 "nbformat": 4,
 "nbformat_minor": 2
}
