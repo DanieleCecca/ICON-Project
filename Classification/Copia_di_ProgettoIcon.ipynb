{
  "cells": [
    {
      "cell_type": "markdown",
      "metadata": {
        "id": "1_KRE1yZ0fX7"
      },
      "source": [
        " # **Progetto ICON**"
      ]
    },
    {
      "cell_type": "code",
      "execution_count": null,
      "metadata": {},
      "outputs": [],
      "source": []
    },
    {
      "cell_type": "markdown",
      "metadata": {
        "id": "yzQ3RRaQohhj"
      },
      "source": [
        "# **Habitable exoplanets classification**\n",
        "\n"
      ]
    },
    {
      "cell_type": "markdown",
      "metadata": {
        "id": "IZ9YXEWZpVVr"
      },
      "source": [
        "Descrizione del progetto"
      ]
    },
    {
      "cell_type": "code",
      "execution_count": 44,
      "metadata": {
        "id": "uCTV5HarpiuZ"
      },
      "outputs": [],
      "source": [
        "# Import libraries\n",
        "import imp\n",
        "import pandas as pd\n",
        "import numpy as np\n",
        "\n",
        "\n",
        "from sklearn.impute import SimpleImputer\n",
        "\n",
        "from sklearn import preprocessing\n",
        "from sklearn.model_selection import train_test_split, cross_validate\n",
        "from sklearn.model_selection import StratifiedKFold\n",
        "from imblearn.over_sampling import SMOTE, SMOTENC\n",
        "\n",
        "from sklearn.pipeline import Pipeline\n",
        "\n",
        "# Machine Learning Algorithms\n",
        "#import xgboost as xgb\n",
        "from sklearn.neighbors import KNeighborsClassifier\n",
        "from sklearn.linear_model import LogisticRegression\n",
        "from sklearn.model_selection import GridSearchCV, RandomizedSearchCV\n",
        "from sklearn.svm import SVC, LinearSVC\n",
        "from sklearn.tree import DecisionTreeClassifier\n",
        "from sklearn.naive_bayes import GaussianNB, BernoulliNB\n",
        "from sklearn.ensemble import (RandomForestClassifier, GradientBoostingClassifier, BaggingClassifier, IsolationForest,\n",
        "                              RandomForestRegressor, AdaBoostClassifier, VotingClassifier, ExtraTreesClassifier)\n",
        "from sklearn.linear_model import Perceptron\n",
        "from sklearn.preprocessing import LabelEncoder\n",
        "from sklearn.preprocessing import OneHotEncoder\n",
        "from sklearn.compose import ColumnTransformer\n",
        "\n",
        "# Performance metrics\n",
        "from sklearn.model_selection import cross_val_score, KFold\n",
        "from sklearn.metrics import accuracy_score, make_scorer, balanced_accuracy_score\n",
        "from sklearn.metrics import precision_recall_fscore_support as score\n",
        "from sklearn.metrics import roc_curve, auc, confusion_matrix, roc_auc_score\n",
        "from sklearn.metrics import precision_score, recall_score, precision_recall_curve,f1_score, fbeta_score\n",
        "\n",
        "import seaborn as sns\n",
        "import matplotlib.pyplot as plt"
      ]
    },
    {
      "cell_type": "markdown",
      "metadata": {
        "id": "3xgwSpaQpFKm"
      },
      "source": [
        "## **Load Data**"
      ]
    },
    {
      "cell_type": "code",
      "execution_count": 45,
      "metadata": {
        "colab": {
          "base_uri": "https://localhost:8080/",
          "height": 473
        },
        "id": "22zsnmYcpLR0",
        "outputId": "4a61848e-1be3-4da8-e488-d3449206d078"
      },
      "outputs": [
        {
          "data": {
            "text/html": [
              "<div>\n",
              "<style scoped>\n",
              "    .dataframe tbody tr th:only-of-type {\n",
              "        vertical-align: middle;\n",
              "    }\n",
              "\n",
              "    .dataframe tbody tr th {\n",
              "        vertical-align: top;\n",
              "    }\n",
              "\n",
              "    .dataframe thead th {\n",
              "        text-align: right;\n",
              "    }\n",
              "</style>\n",
              "<table border=\"1\" class=\"dataframe\">\n",
              "  <thead>\n",
              "    <tr style=\"text-align: right;\">\n",
              "      <th></th>\n",
              "      <th>P. Name</th>\n",
              "      <th>P. Name Kepler</th>\n",
              "      <th>P. Name KOI</th>\n",
              "      <th>P. Zone Class</th>\n",
              "      <th>P. Mass Class</th>\n",
              "      <th>P. Composition Class</th>\n",
              "      <th>P. Atmosphere Class</th>\n",
              "      <th>P. Habitable Class</th>\n",
              "      <th>P. Min Mass (EU)</th>\n",
              "      <th>P. Mass (EU)</th>\n",
              "      <th>...</th>\n",
              "      <th>P. Int ESI</th>\n",
              "      <th>P. Surf ESI</th>\n",
              "      <th>P. ESI</th>\n",
              "      <th>S. HabCat</th>\n",
              "      <th>P. Habitable</th>\n",
              "      <th>P. Hab Moon</th>\n",
              "      <th>P. Confirmed</th>\n",
              "      <th>P. Disc. Method</th>\n",
              "      <th>P. Disc. Year</th>\n",
              "      <th>Unnamed: 68</th>\n",
              "    </tr>\n",
              "  </thead>\n",
              "  <tbody>\n",
              "    <tr>\n",
              "      <th>0</th>\n",
              "      <td>1RXS 1609 b</td>\n",
              "      <td>NaN</td>\n",
              "      <td>NaN</td>\n",
              "      <td>Cold</td>\n",
              "      <td>Jovian</td>\n",
              "      <td>gas</td>\n",
              "      <td>hydrogen-rich</td>\n",
              "      <td>non-habitable</td>\n",
              "      <td>NaN</td>\n",
              "      <td>4451.16</td>\n",
              "      <td>...</td>\n",
              "      <td>0</td>\n",
              "      <td>0</td>\n",
              "      <td>0.05</td>\n",
              "      <td>0</td>\n",
              "      <td>0</td>\n",
              "      <td>0</td>\n",
              "      <td>1</td>\n",
              "      <td>Imaging</td>\n",
              "      <td>2008</td>\n",
              "      <td>NaN</td>\n",
              "    </tr>\n",
              "    <tr>\n",
              "      <th>1</th>\n",
              "      <td>1SWASP J1407 b</td>\n",
              "      <td>NaN</td>\n",
              "      <td>NaN</td>\n",
              "      <td>Cold</td>\n",
              "      <td>Jovian</td>\n",
              "      <td>gas</td>\n",
              "      <td>hydrogen-rich</td>\n",
              "      <td>non-habitable</td>\n",
              "      <td>6358.80</td>\n",
              "      <td>6358.80</td>\n",
              "      <td>...</td>\n",
              "      <td>0</td>\n",
              "      <td>0</td>\n",
              "      <td>0.07</td>\n",
              "      <td>0</td>\n",
              "      <td>0</td>\n",
              "      <td>0</td>\n",
              "      <td>1</td>\n",
              "      <td>Primary Transit</td>\n",
              "      <td>2012</td>\n",
              "      <td>NaN</td>\n",
              "    </tr>\n",
              "    <tr>\n",
              "      <th>2</th>\n",
              "      <td>2M 0103-55(AB) b</td>\n",
              "      <td>NaN</td>\n",
              "      <td>NaN</td>\n",
              "      <td>Cold</td>\n",
              "      <td>Jovian</td>\n",
              "      <td>gas</td>\n",
              "      <td>hydrogen-rich</td>\n",
              "      <td>non-habitable</td>\n",
              "      <td>4133.22</td>\n",
              "      <td>4133.22</td>\n",
              "      <td>...</td>\n",
              "      <td>0</td>\n",
              "      <td>0</td>\n",
              "      <td>0.06</td>\n",
              "      <td>0</td>\n",
              "      <td>0</td>\n",
              "      <td>0</td>\n",
              "      <td>1</td>\n",
              "      <td>Imaging</td>\n",
              "      <td>2013</td>\n",
              "      <td>NaN</td>\n",
              "    </tr>\n",
              "    <tr>\n",
              "      <th>3</th>\n",
              "      <td>2M 0122-24 b</td>\n",
              "      <td>NaN</td>\n",
              "      <td>NaN</td>\n",
              "      <td>Cold</td>\n",
              "      <td>Jovian</td>\n",
              "      <td>gas</td>\n",
              "      <td>hydrogen-rich</td>\n",
              "      <td>non-habitable</td>\n",
              "      <td>NaN</td>\n",
              "      <td>6358.80</td>\n",
              "      <td>...</td>\n",
              "      <td>0</td>\n",
              "      <td>0</td>\n",
              "      <td>0.08</td>\n",
              "      <td>0</td>\n",
              "      <td>0</td>\n",
              "      <td>0</td>\n",
              "      <td>1</td>\n",
              "      <td>Imaging</td>\n",
              "      <td>2013</td>\n",
              "      <td>NaN</td>\n",
              "    </tr>\n",
              "    <tr>\n",
              "      <th>4</th>\n",
              "      <td>2M 0219-39 b</td>\n",
              "      <td>NaN</td>\n",
              "      <td>NaN</td>\n",
              "      <td>Cold</td>\n",
              "      <td>Jovian</td>\n",
              "      <td>gas</td>\n",
              "      <td>hydrogen-rich</td>\n",
              "      <td>non-habitable</td>\n",
              "      <td>NaN</td>\n",
              "      <td>4419.37</td>\n",
              "      <td>...</td>\n",
              "      <td>0</td>\n",
              "      <td>0</td>\n",
              "      <td>0.06</td>\n",
              "      <td>0</td>\n",
              "      <td>0</td>\n",
              "      <td>0</td>\n",
              "      <td>1</td>\n",
              "      <td>Imaging</td>\n",
              "      <td>2015</td>\n",
              "      <td>NaN</td>\n",
              "    </tr>\n",
              "  </tbody>\n",
              "</table>\n",
              "<p>5 rows × 69 columns</p>\n",
              "</div>"
            ],
            "text/plain": [
              "            P. Name P. Name Kepler  P. Name KOI P. Zone Class P. Mass Class  \\\n",
              "0       1RXS 1609 b            NaN          NaN          Cold        Jovian   \n",
              "1    1SWASP J1407 b            NaN          NaN          Cold        Jovian   \n",
              "2  2M 0103-55(AB) b            NaN          NaN          Cold        Jovian   \n",
              "3      2M 0122-24 b            NaN          NaN          Cold        Jovian   \n",
              "4      2M 0219-39 b            NaN          NaN          Cold        Jovian   \n",
              "\n",
              "  P. Composition Class P. Atmosphere Class P. Habitable Class  \\\n",
              "0                  gas       hydrogen-rich      non-habitable   \n",
              "1                  gas       hydrogen-rich      non-habitable   \n",
              "2                  gas       hydrogen-rich      non-habitable   \n",
              "3                  gas       hydrogen-rich      non-habitable   \n",
              "4                  gas       hydrogen-rich      non-habitable   \n",
              "\n",
              "   P. Min Mass (EU)  P. Mass (EU)  ...  P. Int ESI  P. Surf ESI  P. ESI  \\\n",
              "0               NaN       4451.16  ...           0            0    0.05   \n",
              "1           6358.80       6358.80  ...           0            0    0.07   \n",
              "2           4133.22       4133.22  ...           0            0    0.06   \n",
              "3               NaN       6358.80  ...           0            0    0.08   \n",
              "4               NaN       4419.37  ...           0            0    0.06   \n",
              "\n",
              "   S. HabCat  P. Habitable P. Hab Moon P. Confirmed  P. Disc. Method  \\\n",
              "0          0             0           0            1          Imaging   \n",
              "1          0             0           0            1  Primary Transit   \n",
              "2          0             0           0            1          Imaging   \n",
              "3          0             0           0            1          Imaging   \n",
              "4          0             0           0            1          Imaging   \n",
              "\n",
              "   P. Disc. Year  Unnamed: 68  \n",
              "0           2008          NaN  \n",
              "1           2012          NaN  \n",
              "2           2013          NaN  \n",
              "3           2013          NaN  \n",
              "4           2015          NaN  \n",
              "\n",
              "[5 rows x 69 columns]"
            ]
          },
          "execution_count": 45,
          "metadata": {},
          "output_type": "execute_result"
        }
      ],
      "source": [
        "planets = pd.read_csv(\"../PHL-EC.csv\")\n",
        "planets.head()"
      ]
    },
    {
      "cell_type": "markdown",
      "metadata": {
        "id": "q8VYqdf_qpyA"
      },
      "source": [
        "## **Data Preparation**"
      ]
    },
    {
      "cell_type": "markdown",
      "metadata": {
        "id": "HD_h3Y8arVqz"
      },
      "source": [
        "Elimino le tipologie di pianeti per le quali abbiamo pochi esempi"
      ]
    },
    {
      "cell_type": "code",
      "execution_count": 46,
      "metadata": {
        "colab": {
          "base_uri": "https://localhost:8080/"
        },
        "id": "Mx0Q7OFEqjIs",
        "outputId": "e1a70787-e566-488c-d14e-e7cf74a9ee6f"
      },
      "outputs": [
        {
          "data": {
            "text/plain": [
              "non-habitable        3820\n",
              "mesoplanet             31\n",
              "psychroplanet          18\n",
              "thermoplanet            3\n",
              "hypopsychroplanet       3\n",
              "Name: P. Habitable Class, dtype: int64"
            ]
          },
          "execution_count": 46,
          "metadata": {},
          "output_type": "execute_result"
        }
      ],
      "source": [
        "target_count = planets['P. Habitable Class'].value_counts()\n",
        "target_count"
      ]
    },
    {
      "cell_type": "code",
      "execution_count": 47,
      "metadata": {
        "id": "5en88T1arNgq"
      },
      "outputs": [],
      "source": [
        "indexNames = planets[planets['P. Habitable Class'] == 'thermoplanet'].index\n",
        "planets.drop(indexNames, inplace= True)\n",
        "\n",
        "\n",
        "indexNames = planets[planets['P. Habitable Class'] == 'hypopsychroplanet'].index\n",
        "planets.drop(indexNames, inplace= True)"
      ]
    },
    {
      "cell_type": "code",
      "execution_count": 48,
      "metadata": {
        "colab": {
          "base_uri": "https://localhost:8080/"
        },
        "id": "2dyDoh8XrQkc",
        "outputId": "f116af86-6f6a-4141-dd71-68a672607431"
      },
      "outputs": [
        {
          "data": {
            "text/plain": [
              "non-habitable    3820\n",
              "mesoplanet         31\n",
              "psychroplanet      18\n",
              "Name: P. Habitable Class, dtype: int64"
            ]
          },
          "execution_count": 48,
          "metadata": {},
          "output_type": "execute_result"
        }
      ],
      "source": [
        "target_count = planets['P. Habitable Class'].value_counts()\n",
        "target_count"
      ]
    },
    {
      "cell_type": "code",
      "execution_count": 49,
      "metadata": {
        "id": "YVBaW-GsLA-G"
      },
      "outputs": [],
      "source": [
        "planets.reset_index(inplace = True, drop= True)"
      ]
    },
    {
      "cell_type": "markdown",
      "metadata": {
        "id": "cxPl-fkrrnti"
      },
      "source": [
        "Rimuovo alcune feauture segiendo alcune tecniche di feauture selection"
      ]
    },
    {
      "cell_type": "code",
      "execution_count": 50,
      "metadata": {
        "id": "S30xuBmIrnOT"
      },
      "outputs": [],
      "source": [
        "#count = valori nulli in una colonna specifica(in una feature)\n",
        "#lenplanet(planet) = numero di righe totali(tot pianeti)\n",
        "#count/len(planet) = ci dice in percentuale quanti valori ci saranno in quella colonna\n",
        "\n",
        "def remove_missing(feauture):\n",
        "    count = len(planets[planets[feauture].isnull()])\n",
        "    if count/len(planets) > 0.2:\n",
        "        return 1\n",
        "    else:\n",
        "        return 0\n",
        "    \n",
        "missing_values = [x for x in planets.columns if remove_missing(x)]\n",
        "planets = planets.drop(missing_values, axis=1)"
      ]
    },
    {
      "cell_type": "code",
      "execution_count": 51,
      "metadata": {
        "id": "JHAuO4Ner-3e"
      },
      "outputs": [],
      "source": [
        "cols_to_drop = ['S. Constellation', 'S. Type', 'P. Int ESI', \n",
        "                'P. Surf ESI', 'P. Disc. Method', 'P. Disc. Year','P. Hab Moon', 'P. SFlux Min (EU)', 'P. SFlux Max (EU)',\n",
        "                'P. Teq Min (K)','P. Teq Max (K)','P. SFlux Mean (EU)','S. Name']\n",
        "\n",
        "planets = planets.drop(cols_to_drop, axis=1)"
      ]
    },
    {
      "cell_type": "markdown",
      "metadata": {
        "id": "Sqe5tUP4sGKO"
      },
      "source": [
        "Voglio rimuovere anche in base alla correlazione con l'attributo habitability class ma per usare la correlazione devo: \n",
        "\n",
        "*    riempire il dataset con i dati mancati\n",
        "*    traformare prima la feature habitable class (categorica) in feauture numerica\n",
        "\n",
        "\n"
      ]
    },
    {
      "cell_type": "markdown",
      "metadata": {
        "id": "fGlTLGpYs3GS"
      },
      "source": [
        "riempio tramite l'inputer\n",
        "\n"
      ]
    },
    {
      "cell_type": "code",
      "execution_count": 52,
      "metadata": {
        "colab": {
          "base_uri": "https://localhost:8080/"
        },
        "id": "KUBRZTHo2ZUS",
        "outputId": "68a4d5c3-65b9-43a0-ee59-61c0569c6e02"
      },
      "outputs": [
        {
          "data": {
            "text/plain": [
              "P. Name                        0\n",
              "P. Zone Class                 46\n",
              "P. Mass Class                  6\n",
              "P. Composition Class          41\n",
              "P. Atmosphere Class           85\n",
              "P. Habitable Class             0\n",
              "P. Mass (EU)                  33\n",
              "P. Radius (EU)                12\n",
              "P. Density (EU)               41\n",
              "P. Gravity (EU)               41\n",
              "P. Esc Vel (EU)               41\n",
              "P. Teq Mean (K)               46\n",
              "P. Surf Press (EU)            41\n",
              "P. Mag                        56\n",
              "P. Appar Size (deg)           12\n",
              "P. Period (days)             150\n",
              "P. Sem Major Axis (AU)        35\n",
              "P. Eccentricity                0\n",
              "P. Mean Distance (AU)         35\n",
              "P. Omega (deg)                 0\n",
              "S. Mass (SU)                  47\n",
              "S. Radius (SU)               112\n",
              "S. Teff (K)                   99\n",
              "S. Luminosity (SU)            28\n",
              "S. RA (hrs)                    0\n",
              "S. DEC (deg)                   0\n",
              "S. Mag from Planet            46\n",
              "S. Size from Planet (deg)    128\n",
              "S. No. Planets                 0\n",
              "S. No. Planets HZ              0\n",
              "S. Hab Zone Min (AU)         115\n",
              "S. Hab Zone Max (AU)         115\n",
              "P. HZD                        46\n",
              "P. HZC                        41\n",
              "P. HZA                        85\n",
              "P. HZI                        85\n",
              "P. ESI                        48\n",
              "S. HabCat                      0\n",
              "P. Habitable                   0\n",
              "P. Confirmed                   0\n",
              "dtype: int64"
            ]
          },
          "execution_count": 52,
          "metadata": {},
          "output_type": "execute_result"
        }
      ],
      "source": [
        "planets.isnull().sum()"
      ]
    },
    {
      "cell_type": "code",
      "execution_count": 53,
      "metadata": {
        "id": "Z6fSqIac2KAE"
      },
      "outputs": [],
      "source": [
        "numeric_values = planets[planets._get_numeric_data().columns]\n",
        "\n",
        "\n",
        "imputer = SimpleImputer(missing_values = np.NaN, strategy = 'mean') #di default strategy ='mean'\n",
        "numeric_values = pd.DataFrame(imputer.fit_transform(numeric_values), columns=numeric_values.columns)\n",
        "numeric_values.to_csv('Imputed Data.csv', index='rowid')"
      ]
    },
    {
      "cell_type": "code",
      "execution_count": 54,
      "metadata": {
        "id": "2ZVB5mLHtBve"
      },
      "outputs": [],
      "source": [
        "imputed_numerics = pd.read_csv('Imputed Data.csv')"
      ]
    },
    {
      "cell_type": "code",
      "execution_count": 55,
      "metadata": {
        "id": "PtEz0Jt5-Fqo"
      },
      "outputs": [],
      "source": [
        "for i in planets.columns:\n",
        "    if i not in imputed_numerics.columns:\n",
        "        pass\n",
        "    else:\n",
        "        planets[i] = imputed_numerics[i]"
      ]
    },
    {
      "cell_type": "code",
      "execution_count": 56,
      "metadata": {},
      "outputs": [],
      "source": [
        "catCols = [col for col in planets.columns if planets[col].dtype==\"O\"]"
      ]
    },
    {
      "cell_type": "code",
      "execution_count": 57,
      "metadata": {},
      "outputs": [],
      "source": [
        "simp = SimpleImputer(missing_values=np.nan, strategy='most_frequent')\n",
        "planets[catCols] = simp.fit_transform(planets[catCols])\n",
        "planets.dropna(how='any', axis=0, inplace=True)"
      ]
    },
    {
      "cell_type": "code",
      "execution_count": 58,
      "metadata": {},
      "outputs": [
        {
          "data": {
            "text/plain": [
              "P. Name                      0\n",
              "P. Zone Class                0\n",
              "P. Mass Class                0\n",
              "P. Composition Class         0\n",
              "P. Atmosphere Class          0\n",
              "P. Habitable Class           0\n",
              "P. Mass (EU)                 0\n",
              "P. Radius (EU)               0\n",
              "P. Density (EU)              0\n",
              "P. Gravity (EU)              0\n",
              "P. Esc Vel (EU)              0\n",
              "P. Teq Mean (K)              0\n",
              "P. Surf Press (EU)           0\n",
              "P. Mag                       0\n",
              "P. Appar Size (deg)          0\n",
              "P. Period (days)             0\n",
              "P. Sem Major Axis (AU)       0\n",
              "P. Eccentricity              0\n",
              "P. Mean Distance (AU)        0\n",
              "P. Omega (deg)               0\n",
              "S. Mass (SU)                 0\n",
              "S. Radius (SU)               0\n",
              "S. Teff (K)                  0\n",
              "S. Luminosity (SU)           0\n",
              "S. RA (hrs)                  0\n",
              "S. DEC (deg)                 0\n",
              "S. Mag from Planet           0\n",
              "S. Size from Planet (deg)    0\n",
              "S. No. Planets               0\n",
              "S. No. Planets HZ            0\n",
              "S. Hab Zone Min (AU)         0\n",
              "S. Hab Zone Max (AU)         0\n",
              "P. HZD                       0\n",
              "P. HZC                       0\n",
              "P. HZA                       0\n",
              "P. HZI                       0\n",
              "P. ESI                       0\n",
              "S. HabCat                    0\n",
              "P. Habitable                 0\n",
              "P. Confirmed                 0\n",
              "dtype: int64"
            ]
          },
          "execution_count": 58,
          "metadata": {},
          "output_type": "execute_result"
        }
      ],
      "source": [
        "planets.isnull().sum()"
      ]
    },
    {
      "cell_type": "markdown",
      "metadata": {
        "id": "R7uqRS77u1K4"
      },
      "source": [
        "trasformo la feauture categorica"
      ]
    },
    {
      "cell_type": "markdown",
      "metadata": {
        "id": "uXO1p8SSu4Qj"
      },
      "source": [
        "#Convert string values of origin column to numerical values\n",
        "label_encoder = preprocessing.LabelEncoder()\n",
        "label_encoder.fit(planets['P. Habitable Class'])\n",
        "\n",
        "# finding the unique classes\n",
        "print(list(label_encoder.classes_))\n",
        "print()\n",
        "\n",
        "# values after transforming the categorical column.\n",
        "print(label_encoder.transform(planets['P. Habitable Class']))\n",
        "\n",
        "planets['P. Habitable Class'] = label_encoder.transform(planets['P. Habitable Class'])"
      ]
    },
    {
      "cell_type": "markdown",
      "metadata": {
        "id": "GjYqzqR-x8XS"
      },
      "source": [
        "cor = planets.corr('spearman')\n",
        "cor.head()"
      ]
    },
    {
      "cell_type": "markdown",
      "metadata": {
        "id": "lGIzdA1RyBUY"
      },
      "source": [
        "sns.heatmap(cor, annot = False)"
      ]
    },
    {
      "cell_type": "markdown",
      "metadata": {
        "id": "M8G6IdhAyMQK"
      },
      "source": [
        "threshold = 0\n",
        "cor_h = cor['P. Habitable Class'].sort_values(ascending=False)\n",
        "result = cor_h.tail(20)\n",
        "result"
      ]
    },
    {
      "cell_type": "markdown",
      "metadata": {
        "id": "E_SuTfaozG65"
      },
      "source": [
        "Possiamo notare come il dataset sia molto sblianciato"
      ]
    },
    {
      "cell_type": "code",
      "execution_count": 59,
      "metadata": {
        "colab": {
          "base_uri": "https://localhost:8080/"
        },
        "id": "_dp2x4iMzWrz",
        "outputId": "fc619c9f-1c5d-41c4-b864-9d1e77097f3e"
      },
      "outputs": [
        {
          "data": {
            "text/plain": [
              "non-habitable    3820\n",
              "mesoplanet         31\n",
              "psychroplanet      18\n",
              "Name: P. Habitable Class, dtype: int64"
            ]
          },
          "execution_count": 59,
          "metadata": {},
          "output_type": "execute_result"
        }
      ],
      "source": [
        "target_count = planets['P. Habitable Class'].value_counts()\n",
        "target_count"
      ]
    },
    {
      "cell_type": "code",
      "execution_count": 60,
      "metadata": {
        "colab": {
          "base_uri": "https://localhost:8080/"
        },
        "id": "54uEYwbFzYYr",
        "outputId": "b8427dda-56fd-4113-f878-27ccd7d03882"
      },
      "outputs": [
        {
          "name": "stdout",
          "output_type": "stream",
          "text": [
            "non-habitable: 3820\n",
            "mesoplanet: 31\n",
            "psychroplanet : 18\n",
            "Percentage of Majority Class: 98.72999999999999\n",
            "Percentage of Minority Class: 0.8\n",
            "Percentage of Minority Class: 0.47000000000000003\n"
          ]
        }
      ],
      "source": [
        "target_count = planets['P. Habitable Class'].value_counts()\n",
        "print(f'non-habitable: {target_count[0]}')\n",
        "print(f'mesoplanet: {target_count[1]}')\n",
        "print(f'psychroplanet : {target_count[2]}')\n",
        "print(f'Percentage of Majority Class: {round(target_count[0] / sum(target_count), 4)*100}')\n",
        "print(f'Percentage of Minority Class: {round(target_count[1] / sum(target_count), 4)*100}')\n",
        "print(f'Percentage of Minority Class: {round(target_count[2] / sum(target_count), 4)*100}')"
      ]
    },
    {
      "cell_type": "markdown",
      "metadata": {
        "id": "X8Q-4b0yUdTc"
      },
      "source": [
        "Divido il dataset "
      ]
    },
    {
      "cell_type": "markdown",
      "metadata": {},
      "source": [
        "X = Predictor features\n",
        "y = target feature"
      ]
    },
    {
      "cell_type": "markdown",
      "metadata": {},
      "source": [
        "prima di poter effettuare la classificazione devo trasformare le feature categoriche in numeriche;\n",
        "trasformo la feature target tramite l'encoder e quelle normali tramite altri metodi, quindi posso usare dopo SMOTE normale"
      ]
    },
    {
      "cell_type": "code",
      "execution_count": 61,
      "metadata": {},
      "outputs": [
        {
          "data": {
            "text/html": [
              "<div>\n",
              "<style scoped>\n",
              "    .dataframe tbody tr th:only-of-type {\n",
              "        vertical-align: middle;\n",
              "    }\n",
              "\n",
              "    .dataframe tbody tr th {\n",
              "        vertical-align: top;\n",
              "    }\n",
              "\n",
              "    .dataframe thead th {\n",
              "        text-align: right;\n",
              "    }\n",
              "</style>\n",
              "<table border=\"1\" class=\"dataframe\">\n",
              "  <thead>\n",
              "    <tr style=\"text-align: right;\">\n",
              "      <th></th>\n",
              "      <th>P. Name</th>\n",
              "      <th>P. Zone Class</th>\n",
              "      <th>P. Mass Class</th>\n",
              "      <th>P. Composition Class</th>\n",
              "      <th>P. Atmosphere Class</th>\n",
              "      <th>P. Habitable Class</th>\n",
              "      <th>P. Mass (EU)</th>\n",
              "      <th>P. Radius (EU)</th>\n",
              "      <th>P. Density (EU)</th>\n",
              "      <th>P. Gravity (EU)</th>\n",
              "      <th>...</th>\n",
              "      <th>S. Hab Zone Min (AU)</th>\n",
              "      <th>S. Hab Zone Max (AU)</th>\n",
              "      <th>P. HZD</th>\n",
              "      <th>P. HZC</th>\n",
              "      <th>P. HZA</th>\n",
              "      <th>P. HZI</th>\n",
              "      <th>P. ESI</th>\n",
              "      <th>S. HabCat</th>\n",
              "      <th>P. Habitable</th>\n",
              "      <th>P. Confirmed</th>\n",
              "    </tr>\n",
              "  </thead>\n",
              "  <tbody>\n",
              "    <tr>\n",
              "      <th>0</th>\n",
              "      <td>1RXS 1609 b</td>\n",
              "      <td>Cold</td>\n",
              "      <td>Jovian</td>\n",
              "      <td>gas</td>\n",
              "      <td>hydrogen-rich</td>\n",
              "      <td>non-habitable</td>\n",
              "      <td>4451.16</td>\n",
              "      <td>19.04</td>\n",
              "      <td>0.64</td>\n",
              "      <td>12.28</td>\n",
              "      <td>...</td>\n",
              "      <td>0.540</td>\n",
              "      <td>1.362</td>\n",
              "      <td>800.07</td>\n",
              "      <td>23.51</td>\n",
              "      <td>85.62</td>\n",
              "      <td>0.00</td>\n",
              "      <td>0.05</td>\n",
              "      <td>0.0</td>\n",
              "      <td>0.0</td>\n",
              "      <td>1.0</td>\n",
              "    </tr>\n",
              "    <tr>\n",
              "      <th>1</th>\n",
              "      <td>1SWASP J1407 b</td>\n",
              "      <td>Cold</td>\n",
              "      <td>Jovian</td>\n",
              "      <td>gas</td>\n",
              "      <td>hydrogen-rich</td>\n",
              "      <td>non-habitable</td>\n",
              "      <td>6358.80</td>\n",
              "      <td>10.94</td>\n",
              "      <td>4.86</td>\n",
              "      <td>53.12</td>\n",
              "      <td>...</td>\n",
              "      <td>0.461</td>\n",
              "      <td>1.143</td>\n",
              "      <td>9.07</td>\n",
              "      <td>15.30</td>\n",
              "      <td>45.41</td>\n",
              "      <td>0.02</td>\n",
              "      <td>0.07</td>\n",
              "      <td>0.0</td>\n",
              "      <td>0.0</td>\n",
              "      <td>1.0</td>\n",
              "    </tr>\n",
              "    <tr>\n",
              "      <th>2</th>\n",
              "      <td>2M 0103-55(AB) b</td>\n",
              "      <td>Cold</td>\n",
              "      <td>Jovian</td>\n",
              "      <td>gas</td>\n",
              "      <td>hydrogen-rich</td>\n",
              "      <td>non-habitable</td>\n",
              "      <td>4133.22</td>\n",
              "      <td>11.40</td>\n",
              "      <td>2.79</td>\n",
              "      <td>31.79</td>\n",
              "      <td>...</td>\n",
              "      <td>0.136</td>\n",
              "      <td>0.347</td>\n",
              "      <td>793.67</td>\n",
              "      <td>12.57</td>\n",
              "      <td>107.44</td>\n",
              "      <td>0.00</td>\n",
              "      <td>0.06</td>\n",
              "      <td>0.0</td>\n",
              "      <td>0.0</td>\n",
              "      <td>1.0</td>\n",
              "    </tr>\n",
              "    <tr>\n",
              "      <th>3</th>\n",
              "      <td>2M 0122-24 b</td>\n",
              "      <td>Cold</td>\n",
              "      <td>Jovian</td>\n",
              "      <td>gas</td>\n",
              "      <td>hydrogen-rich</td>\n",
              "      <td>non-habitable</td>\n",
              "      <td>6358.80</td>\n",
              "      <td>11.20</td>\n",
              "      <td>4.53</td>\n",
              "      <td>50.69</td>\n",
              "      <td>...</td>\n",
              "      <td>0.136</td>\n",
              "      <td>0.347</td>\n",
              "      <td>490.45</td>\n",
              "      <td>15.72</td>\n",
              "      <td>119.46</td>\n",
              "      <td>0.00</td>\n",
              "      <td>0.08</td>\n",
              "      <td>0.0</td>\n",
              "      <td>0.0</td>\n",
              "      <td>1.0</td>\n",
              "    </tr>\n",
              "    <tr>\n",
              "      <th>4</th>\n",
              "      <td>2M 0219-39 b</td>\n",
              "      <td>Cold</td>\n",
              "      <td>Jovian</td>\n",
              "      <td>gas</td>\n",
              "      <td>hydrogen-rich</td>\n",
              "      <td>non-habitable</td>\n",
              "      <td>4419.37</td>\n",
              "      <td>16.13</td>\n",
              "      <td>1.05</td>\n",
              "      <td>16.99</td>\n",
              "      <td>...</td>\n",
              "      <td>0.062</td>\n",
              "      <td>0.165</td>\n",
              "      <td>3028.82</td>\n",
              "      <td>19.46</td>\n",
              "      <td>133.25</td>\n",
              "      <td>0.00</td>\n",
              "      <td>0.06</td>\n",
              "      <td>0.0</td>\n",
              "      <td>0.0</td>\n",
              "      <td>1.0</td>\n",
              "    </tr>\n",
              "    <tr>\n",
              "      <th>...</th>\n",
              "      <td>...</td>\n",
              "      <td>...</td>\n",
              "      <td>...</td>\n",
              "      <td>...</td>\n",
              "      <td>...</td>\n",
              "      <td>...</td>\n",
              "      <td>...</td>\n",
              "      <td>...</td>\n",
              "      <td>...</td>\n",
              "      <td>...</td>\n",
              "      <td>...</td>\n",
              "      <td>...</td>\n",
              "      <td>...</td>\n",
              "      <td>...</td>\n",
              "      <td>...</td>\n",
              "      <td>...</td>\n",
              "      <td>...</td>\n",
              "      <td>...</td>\n",
              "      <td>...</td>\n",
              "      <td>...</td>\n",
              "      <td>...</td>\n",
              "    </tr>\n",
              "    <tr>\n",
              "      <th>3864</th>\n",
              "      <td>YBP1194 b</td>\n",
              "      <td>Hot</td>\n",
              "      <td>Jovian</td>\n",
              "      <td>gas</td>\n",
              "      <td>metals-rich</td>\n",
              "      <td>non-habitable</td>\n",
              "      <td>108.10</td>\n",
              "      <td>7.97</td>\n",
              "      <td>0.21</td>\n",
              "      <td>1.70</td>\n",
              "      <td>...</td>\n",
              "      <td>0.743</td>\n",
              "      <td>1.751</td>\n",
              "      <td>-2.33</td>\n",
              "      <td>5.02</td>\n",
              "      <td>0.57</td>\n",
              "      <td>0.15</td>\n",
              "      <td>0.16</td>\n",
              "      <td>0.0</td>\n",
              "      <td>0.0</td>\n",
              "      <td>1.0</td>\n",
              "    </tr>\n",
              "    <tr>\n",
              "      <th>3865</th>\n",
              "      <td>YBP1514 b</td>\n",
              "      <td>Hot</td>\n",
              "      <td>Jovian</td>\n",
              "      <td>gas</td>\n",
              "      <td>metals-rich</td>\n",
              "      <td>non-habitable</td>\n",
              "      <td>127.18</td>\n",
              "      <td>8.34</td>\n",
              "      <td>0.22</td>\n",
              "      <td>1.83</td>\n",
              "      <td>...</td>\n",
              "      <td>0.658</td>\n",
              "      <td>1.552</td>\n",
              "      <td>-2.34</td>\n",
              "      <td>5.23</td>\n",
              "      <td>0.62</td>\n",
              "      <td>0.15</td>\n",
              "      <td>0.15</td>\n",
              "      <td>0.0</td>\n",
              "      <td>0.0</td>\n",
              "      <td>1.0</td>\n",
              "    </tr>\n",
              "    <tr>\n",
              "      <th>3866</th>\n",
              "      <td>YZ Cet b</td>\n",
              "      <td>Hot</td>\n",
              "      <td>Terran</td>\n",
              "      <td>rocky-iron</td>\n",
              "      <td>metals-rich</td>\n",
              "      <td>non-habitable</td>\n",
              "      <td>0.76</td>\n",
              "      <td>0.96</td>\n",
              "      <td>0.86</td>\n",
              "      <td>0.83</td>\n",
              "      <td>...</td>\n",
              "      <td>0.039</td>\n",
              "      <td>0.102</td>\n",
              "      <td>-1.72</td>\n",
              "      <td>-0.17</td>\n",
              "      <td>-0.91</td>\n",
              "      <td>0.34</td>\n",
              "      <td>0.43</td>\n",
              "      <td>0.0</td>\n",
              "      <td>0.0</td>\n",
              "      <td>1.0</td>\n",
              "    </tr>\n",
              "    <tr>\n",
              "      <th>3867</th>\n",
              "      <td>YZ Cet c</td>\n",
              "      <td>Hot</td>\n",
              "      <td>Terran</td>\n",
              "      <td>rocky-iron</td>\n",
              "      <td>metals-rich</td>\n",
              "      <td>non-habitable</td>\n",
              "      <td>0.99</td>\n",
              "      <td>1.04</td>\n",
              "      <td>0.88</td>\n",
              "      <td>0.91</td>\n",
              "      <td>...</td>\n",
              "      <td>0.039</td>\n",
              "      <td>0.102</td>\n",
              "      <td>-1.56</td>\n",
              "      <td>-0.17</td>\n",
              "      <td>-0.77</td>\n",
              "      <td>0.36</td>\n",
              "      <td>0.53</td>\n",
              "      <td>0.0</td>\n",
              "      <td>0.0</td>\n",
              "      <td>1.0</td>\n",
              "    </tr>\n",
              "    <tr>\n",
              "      <th>3868</th>\n",
              "      <td>YZ Cet d</td>\n",
              "      <td>Hot</td>\n",
              "      <td>Terran</td>\n",
              "      <td>rocky-iron</td>\n",
              "      <td>metals-rich</td>\n",
              "      <td>non-habitable</td>\n",
              "      <td>1.14</td>\n",
              "      <td>1.09</td>\n",
              "      <td>0.89</td>\n",
              "      <td>0.97</td>\n",
              "      <td>...</td>\n",
              "      <td>0.039</td>\n",
              "      <td>0.102</td>\n",
              "      <td>-1.34</td>\n",
              "      <td>-0.17</td>\n",
              "      <td>-0.64</td>\n",
              "      <td>0.40</td>\n",
              "      <td>0.65</td>\n",
              "      <td>0.0</td>\n",
              "      <td>0.0</td>\n",
              "      <td>1.0</td>\n",
              "    </tr>\n",
              "  </tbody>\n",
              "</table>\n",
              "<p>3869 rows × 40 columns</p>\n",
              "</div>"
            ],
            "text/plain": [
              "               P. Name P. Zone Class P. Mass Class P. Composition Class  \\\n",
              "0          1RXS 1609 b          Cold        Jovian                  gas   \n",
              "1       1SWASP J1407 b          Cold        Jovian                  gas   \n",
              "2     2M 0103-55(AB) b          Cold        Jovian                  gas   \n",
              "3         2M 0122-24 b          Cold        Jovian                  gas   \n",
              "4         2M 0219-39 b          Cold        Jovian                  gas   \n",
              "...                ...           ...           ...                  ...   \n",
              "3864         YBP1194 b           Hot        Jovian                  gas   \n",
              "3865         YBP1514 b           Hot        Jovian                  gas   \n",
              "3866          YZ Cet b           Hot        Terran           rocky-iron   \n",
              "3867          YZ Cet c           Hot        Terran           rocky-iron   \n",
              "3868          YZ Cet d           Hot        Terran           rocky-iron   \n",
              "\n",
              "     P. Atmosphere Class P. Habitable Class  P. Mass (EU)  P. Radius (EU)  \\\n",
              "0          hydrogen-rich      non-habitable       4451.16           19.04   \n",
              "1          hydrogen-rich      non-habitable       6358.80           10.94   \n",
              "2          hydrogen-rich      non-habitable       4133.22           11.40   \n",
              "3          hydrogen-rich      non-habitable       6358.80           11.20   \n",
              "4          hydrogen-rich      non-habitable       4419.37           16.13   \n",
              "...                  ...                ...           ...             ...   \n",
              "3864         metals-rich      non-habitable        108.10            7.97   \n",
              "3865         metals-rich      non-habitable        127.18            8.34   \n",
              "3866         metals-rich      non-habitable          0.76            0.96   \n",
              "3867         metals-rich      non-habitable          0.99            1.04   \n",
              "3868         metals-rich      non-habitable          1.14            1.09   \n",
              "\n",
              "      P. Density (EU)  P. Gravity (EU)  ...  S. Hab Zone Min (AU)  \\\n",
              "0                0.64            12.28  ...                 0.540   \n",
              "1                4.86            53.12  ...                 0.461   \n",
              "2                2.79            31.79  ...                 0.136   \n",
              "3                4.53            50.69  ...                 0.136   \n",
              "4                1.05            16.99  ...                 0.062   \n",
              "...               ...              ...  ...                   ...   \n",
              "3864             0.21             1.70  ...                 0.743   \n",
              "3865             0.22             1.83  ...                 0.658   \n",
              "3866             0.86             0.83  ...                 0.039   \n",
              "3867             0.88             0.91  ...                 0.039   \n",
              "3868             0.89             0.97  ...                 0.039   \n",
              "\n",
              "      S. Hab Zone Max (AU)   P. HZD  P. HZC  P. HZA  P. HZI  P. ESI  \\\n",
              "0                    1.362   800.07   23.51   85.62    0.00    0.05   \n",
              "1                    1.143     9.07   15.30   45.41    0.02    0.07   \n",
              "2                    0.347   793.67   12.57  107.44    0.00    0.06   \n",
              "3                    0.347   490.45   15.72  119.46    0.00    0.08   \n",
              "4                    0.165  3028.82   19.46  133.25    0.00    0.06   \n",
              "...                    ...      ...     ...     ...     ...     ...   \n",
              "3864                 1.751    -2.33    5.02    0.57    0.15    0.16   \n",
              "3865                 1.552    -2.34    5.23    0.62    0.15    0.15   \n",
              "3866                 0.102    -1.72   -0.17   -0.91    0.34    0.43   \n",
              "3867                 0.102    -1.56   -0.17   -0.77    0.36    0.53   \n",
              "3868                 0.102    -1.34   -0.17   -0.64    0.40    0.65   \n",
              "\n",
              "      S. HabCat  P. Habitable  P. Confirmed  \n",
              "0           0.0           0.0           1.0  \n",
              "1           0.0           0.0           1.0  \n",
              "2           0.0           0.0           1.0  \n",
              "3           0.0           0.0           1.0  \n",
              "4           0.0           0.0           1.0  \n",
              "...         ...           ...           ...  \n",
              "3864        0.0           0.0           1.0  \n",
              "3865        0.0           0.0           1.0  \n",
              "3866        0.0           0.0           1.0  \n",
              "3867        0.0           0.0           1.0  \n",
              "3868        0.0           0.0           1.0  \n",
              "\n",
              "[3869 rows x 40 columns]"
            ]
          },
          "execution_count": 61,
          "metadata": {},
          "output_type": "execute_result"
        }
      ],
      "source": [
        "planets_c = planets.copy()\n",
        "planets_c"
      ]
    },
    {
      "cell_type": "markdown",
      "metadata": {},
      "source": [
        "Faccio ENCODING delle colonne CATEGORICHE"
      ]
    },
    {
      "cell_type": "code",
      "execution_count": 101,
      "metadata": {},
      "outputs": [
        {
          "name": "stdout",
          "output_type": "stream",
          "text": [
            "0    non-habitable\n",
            "1    non-habitable\n",
            "2    non-habitable\n",
            "3    non-habitable\n",
            "4    non-habitable\n",
            "Name: P. Habitable Class, dtype: object\n",
            "\n",
            "[[0. 1. 0.]\n",
            " [0. 1. 0.]\n",
            " [0. 1. 0.]\n",
            " [0. 1. 0.]\n",
            " [0. 1. 0.]]\n",
            "\n",
            "[['non-habitable']\n",
            " ['non-habitable']\n",
            " ['non-habitable']\n",
            " ['non-habitable']\n",
            " ['non-habitable']]\n",
            "(3869, 6)\n"
          ]
        },
        {
          "data": {
            "text/html": [
              "<div>\n",
              "<style scoped>\n",
              "    .dataframe tbody tr th:only-of-type {\n",
              "        vertical-align: middle;\n",
              "    }\n",
              "\n",
              "    .dataframe tbody tr th {\n",
              "        vertical-align: top;\n",
              "    }\n",
              "\n",
              "    .dataframe thead th {\n",
              "        text-align: right;\n",
              "    }\n",
              "</style>\n",
              "<table border=\"1\" class=\"dataframe\">\n",
              "  <thead>\n",
              "    <tr style=\"text-align: right;\">\n",
              "      <th></th>\n",
              "      <th>P. Name</th>\n",
              "      <th>P. Zone Class</th>\n",
              "      <th>P. Mass Class</th>\n",
              "      <th>P. Composition Class</th>\n",
              "      <th>P. Atmosphere Class</th>\n",
              "      <th>P. Habitable Class</th>\n",
              "    </tr>\n",
              "  </thead>\n",
              "  <tbody>\n",
              "    <tr>\n",
              "      <th>0</th>\n",
              "      <td>(0, 7)\\t1.0</td>\n",
              "      <td>(0, 0)\\t1.0</td>\n",
              "      <td>(0, 0)\\t1.0</td>\n",
              "      <td>(0, 0)\\t1.0</td>\n",
              "      <td>(0, 0)\\t1.0</td>\n",
              "      <td>(0, 1)\\t1.0</td>\n",
              "    </tr>\n",
              "    <tr>\n",
              "      <th>1</th>\n",
              "      <td>(0, 8)\\t1.0</td>\n",
              "      <td>(0, 0)\\t1.0</td>\n",
              "      <td>(0, 0)\\t1.0</td>\n",
              "      <td>(0, 0)\\t1.0</td>\n",
              "      <td>(0, 0)\\t1.0</td>\n",
              "      <td>(0, 1)\\t1.0</td>\n",
              "    </tr>\n",
              "    <tr>\n",
              "      <th>2</th>\n",
              "      <td>(0, 12)\\t1.0</td>\n",
              "      <td>(0, 0)\\t1.0</td>\n",
              "      <td>(0, 0)\\t1.0</td>\n",
              "      <td>(0, 0)\\t1.0</td>\n",
              "      <td>(0, 0)\\t1.0</td>\n",
              "      <td>(0, 1)\\t1.0</td>\n",
              "    </tr>\n",
              "    <tr>\n",
              "      <th>3</th>\n",
              "      <td>(0, 13)\\t1.0</td>\n",
              "      <td>(0, 0)\\t1.0</td>\n",
              "      <td>(0, 0)\\t1.0</td>\n",
              "      <td>(0, 0)\\t1.0</td>\n",
              "      <td>(0, 0)\\t1.0</td>\n",
              "      <td>(0, 1)\\t1.0</td>\n",
              "    </tr>\n",
              "    <tr>\n",
              "      <th>4</th>\n",
              "      <td>(0, 14)\\t1.0</td>\n",
              "      <td>(0, 0)\\t1.0</td>\n",
              "      <td>(0, 0)\\t1.0</td>\n",
              "      <td>(0, 0)\\t1.0</td>\n",
              "      <td>(0, 0)\\t1.0</td>\n",
              "      <td>(0, 1)\\t1.0</td>\n",
              "    </tr>\n",
              "  </tbody>\n",
              "</table>\n",
              "</div>"
            ],
            "text/plain": [
              "          P. Name  P. Zone Class  P. Mass Class P. Composition Class  \\\n",
              "0     (0, 7)\\t1.0    (0, 0)\\t1.0    (0, 0)\\t1.0          (0, 0)\\t1.0   \n",
              "1     (0, 8)\\t1.0    (0, 0)\\t1.0    (0, 0)\\t1.0          (0, 0)\\t1.0   \n",
              "2    (0, 12)\\t1.0    (0, 0)\\t1.0    (0, 0)\\t1.0          (0, 0)\\t1.0   \n",
              "3    (0, 13)\\t1.0    (0, 0)\\t1.0    (0, 0)\\t1.0          (0, 0)\\t1.0   \n",
              "4    (0, 14)\\t1.0    (0, 0)\\t1.0    (0, 0)\\t1.0          (0, 0)\\t1.0   \n",
              "\n",
              "  P. Atmosphere Class P. Habitable Class  \n",
              "0         (0, 0)\\t1.0        (0, 1)\\t1.0  \n",
              "1         (0, 0)\\t1.0        (0, 1)\\t1.0  \n",
              "2         (0, 0)\\t1.0        (0, 1)\\t1.0  \n",
              "3         (0, 0)\\t1.0        (0, 1)\\t1.0  \n",
              "4         (0, 0)\\t1.0        (0, 1)\\t1.0  "
            ]
          },
          "execution_count": 101,
          "metadata": {},
          "output_type": "execute_result"
        }
      ],
      "source": [
        "planet_encoder = OneHotEncoder()\n",
        "\n",
        "name_reshaped = np.array(planets['P. Name']).reshape(-1, 1)\n",
        "name_values = planet_encoder.fit_transform(name_reshaped)\n",
        "\n",
        "zone_reshaped = np.array(planets['P. Zone Class']).reshape(-1, 1)\n",
        "zone_values = planet_encoder.fit_transform(zone_reshaped)\n",
        "\n",
        "mass_reshaped = np.array(planets['P. Mass Class']).reshape(-1, 1)\n",
        "mass_values = planet_encoder.fit_transform(mass_reshaped)\n",
        "\n",
        "comp_reshaped = np.array(planets['P. Composition Class']).reshape(-1, 1)\n",
        "comp_values = planet_encoder.fit_transform(comp_reshaped)\n",
        "\n",
        "atmo_reshaped = np.array(planets['P. Atmosphere Class']).reshape(-1, 1)\n",
        "atmo_values = planet_encoder.fit_transform(atmo_reshaped)\n",
        "\n",
        "hab_reshaped = np.array(planets['P. Habitable Class']).reshape(-1, 1)\n",
        "hab_values = planet_encoder.fit_transform(hab_reshaped)\n",
        "\n",
        "#PRINT TEST\n",
        "print(planets['P. Habitable Class'][:5])\n",
        "print()\n",
        "print(hab_values.toarray()[:5])\n",
        "print()\n",
        "print(planet_encoder.inverse_transform(hab_values)[:5])\n",
        "\n",
        "#costruisco DataFrame temporaneo\n",
        "p_name = pd.DataFrame(name_values, columns=['P. Name'])\n",
        "p_zone = pd.DataFrame(zone_values, columns=['P. Zone Class'])\n",
        "p_mass = pd.DataFrame(mass_values, columns=['P. Mass Class'])\n",
        "p_comp = pd.DataFrame(comp_values, columns=['P. Composition Class'])\n",
        "p_atmo = pd.DataFrame(atmo_values, columns=['P. Atmosphere Class'])\n",
        "p_hab = pd.DataFrame(hab_values, columns=['P. Habitable Class'])\n",
        "\n",
        "planets_categorical_encoded = pd.concat([p_name, p_zone, p_mass, p_comp, p_atmo, p_hab], axis=1)\n",
        "print(planets_categorical_encoded.shape)\n",
        "planets_categorical_encoded.head()"
      ]
    },
    {
      "cell_type": "code",
      "execution_count": null,
      "metadata": {},
      "outputs": [],
      "source": [
        "\n",
        "X = planets_c.loc[ :, planets.columns != 'P. Habitable Class']\n",
        "y = planets_c.iloc[:, 5]\n",
        "\n",
        "X = X.values"
      ]
    },
    {
      "cell_type": "markdown",
      "metadata": {},
      "source": [
        "Ora definiamo una pipeline per settare l'oversampling usando SMOTE sui dati di training , ad ogni cross-validation evaluation process"
      ]
    },
    {
      "cell_type": "code",
      "execution_count": null,
      "metadata": {},
      "outputs": [],
      "source": [
        "steps = [('over', SMOTE()), ('model', LogisticRegression())] #mettiamo il modello di classificazione\n",
        "pipeline = Pipeline(steps=steps)"
      ]
    },
    {
      "cell_type": "markdown",
      "metadata": {},
      "source": [
        "Ora usiamo stratified k-fold cross-validation per dividere il nostro dat in più folds"
      ]
    },
    {
      "cell_type": "code",
      "execution_count": null,
      "metadata": {},
      "outputs": [],
      "source": [
        "skf = StratifiedKFold(n_splits=3,random_state=None,shuffle=False)\n",
        "\n",
        "for train_index,test_index in skf.split(X,y):\n",
        "    X_train, X_test = X[train_index], X[test_index]\n",
        "    y_train, y_test = y[train_index], y[test_index]\n",
        "    \n",
        "    \n",
        "    print(\"Train X :\", X_train, \"|\", \"Test X :\", X_test)\n",
        "    print(\"Train y :\", y_train, \"|\", \"Test y :\", y_test)"
      ]
    },
    {
      "cell_type": "markdown",
      "metadata": {
        "id": "TJYE4rhyZMHs"
      },
      "source": [
        "effettuo oversampling"
      ]
    },
    {
      "cell_type": "code",
      "execution_count": null,
      "metadata": {},
      "outputs": [],
      "source": [
        "catIndex=[0, 1, 2, 3, 4, 5]\n",
        "catIndex"
      ]
    },
    {
      "cell_type": "code",
      "execution_count": null,
      "metadata": {},
      "outputs": [],
      "source": [
        "dict = {'psychroplanet': 2000,\n",
        "    'mesoplanet': 2000}"
      ]
    },
    {
      "cell_type": "code",
      "execution_count": null,
      "metadata": {},
      "outputs": [],
      "source": [
        "#facciamo l'oversampling\n",
        "smote = SMOTENC(random_state = 11, sampling_strategy = dict, categorical_features = catIndex)\n",
        "X_train, y_train = smote.fit_resample(X_train, y_train)\n",
        "\n"
      ]
    },
    {
      "cell_type": "code",
      "execution_count": null,
      "metadata": {},
      "outputs": [],
      "source": [
        "Y = pd.DataFrame(y_train, columns = ['P. Habitable Class'])"
      ]
    },
    {
      "cell_type": "markdown",
      "metadata": {},
      "source": [
        "Il dataset non è più sbilanciato"
      ]
    },
    {
      "cell_type": "code",
      "execution_count": null,
      "metadata": {},
      "outputs": [],
      "source": [
        "target_count = Y['P. Habitable Class'].value_counts()\n",
        "print(f'non-habitable: {target_count[0]}')\n",
        "print(f'mesoplanet: {target_count[1]}')\n",
        "print(f'psychroplanet : {target_count[2]}')\n",
        "print(f'Percentage of Majority Class: {round(target_count[0] / sum(target_count), 4)*100}')\n",
        "print(f'Percentage of Minority Class: {round(target_count[1] / sum(target_count), 4)*100}')\n",
        "print(f'Percentage of Minority Class: {round(target_count[2] / sum(target_count), 4)*100}')"
      ]
    },
    {
      "cell_type": "markdown",
      "metadata": {},
      "source": [
        "Vedi questo https://analyticsindiamag.com/7-types-classification-algorithms/ per scegliere i modelli"
      ]
    },
    {
      "cell_type": "code",
      "execution_count": 72,
      "metadata": {},
      "outputs": [
        {
          "name": "stdout",
          "output_type": "stream",
          "text": [
            "<class 'pandas.core.frame.DataFrame'>\n",
            "RangeIndex: 3869 entries, 0 to 3868\n",
            "Data columns (total 40 columns):\n",
            " #   Column                     Non-Null Count  Dtype  \n",
            "---  ------                     --------------  -----  \n",
            " 0   P. Name                    3869 non-null   object \n",
            " 1   P. Zone Class              3869 non-null   object \n",
            " 2   P. Mass Class              3869 non-null   object \n",
            " 3   P. Composition Class       3869 non-null   object \n",
            " 4   P. Atmosphere Class        3869 non-null   object \n",
            " 5   P. Habitable Class         3869 non-null   object \n",
            " 6   P. Mass (EU)               3869 non-null   float64\n",
            " 7   P. Radius (EU)             3869 non-null   float64\n",
            " 8   P. Density (EU)            3869 non-null   float64\n",
            " 9   P. Gravity (EU)            3869 non-null   float64\n",
            " 10  P. Esc Vel (EU)            3869 non-null   float64\n",
            " 11  P. Teq Mean (K)            3869 non-null   float64\n",
            " 12  P. Surf Press (EU)         3869 non-null   float64\n",
            " 13  P. Mag                     3869 non-null   float64\n",
            " 14  P. Appar Size (deg)        3869 non-null   float64\n",
            " 15  P. Period (days)           3869 non-null   float64\n",
            " 16  P. Sem Major Axis (AU)     3869 non-null   float64\n",
            " 17  P. Eccentricity            3869 non-null   float64\n",
            " 18  P. Mean Distance (AU)      3869 non-null   float64\n",
            " 19  P. Omega (deg)             3869 non-null   float64\n",
            " 20  S. Mass (SU)               3869 non-null   float64\n",
            " 21  S. Radius (SU)             3869 non-null   float64\n",
            " 22  S. Teff (K)                3869 non-null   float64\n",
            " 23  S. Luminosity (SU)         3869 non-null   float64\n",
            " 24  S. RA (hrs)                3869 non-null   float64\n",
            " 25  S. DEC (deg)               3869 non-null   float64\n",
            " 26  S. Mag from Planet         3869 non-null   float64\n",
            " 27  S. Size from Planet (deg)  3869 non-null   float64\n",
            " 28  S. No. Planets             3869 non-null   float64\n",
            " 29  S. No. Planets HZ          3869 non-null   float64\n",
            " 30  S. Hab Zone Min (AU)       3869 non-null   float64\n",
            " 31  S. Hab Zone Max (AU)       3869 non-null   float64\n",
            " 32  P. HZD                     3869 non-null   float64\n",
            " 33  P. HZC                     3869 non-null   float64\n",
            " 34  P. HZA                     3869 non-null   float64\n",
            " 35  P. HZI                     3869 non-null   float64\n",
            " 36  P. ESI                     3869 non-null   float64\n",
            " 37  S. HabCat                  3869 non-null   float64\n",
            " 38  P. Habitable               3869 non-null   float64\n",
            " 39  P. Confirmed               3869 non-null   float64\n",
            "dtypes: float64(34), object(6)\n",
            "memory usage: 1.2+ MB\n"
          ]
        }
      ],
      "source": [
        "planets.dtypes\n",
        "planets.info()"
      ]
    },
    {
      "cell_type": "code",
      "execution_count": null,
      "metadata": {},
      "outputs": [],
      "source": [
        "model = GaussianNB()\n",
        "model.fit(X_train, y_train)\n",
        "y_pre =model.predic(X_test)"
      ]
    }
  ],
  "metadata": {
    "colab": {
      "collapsed_sections": [],
      "provenance": []
    },
    "kernelspec": {
      "display_name": "Python 3.10.7 64-bit (microsoft store)",
      "language": "python",
      "name": "python3"
    },
    "language_info": {
      "codemirror_mode": {
        "name": "ipython",
        "version": 3
      },
      "file_extension": ".py",
      "mimetype": "text/x-python",
      "name": "python",
      "nbconvert_exporter": "python",
      "pygments_lexer": "ipython3",
      "version": "3.10.7"
    },
    "vscode": {
      "interpreter": {
        "hash": "6976a0d29688b69af430d154ca21ca8f69eff21986dd9c09ddc9cd50d921dcd1"
      }
    }
  },
  "nbformat": 4,
  "nbformat_minor": 0
}
