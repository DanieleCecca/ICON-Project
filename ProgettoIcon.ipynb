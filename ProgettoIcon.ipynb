{
  "nbformat": 4,
  "nbformat_minor": 0,
  "metadata": {
    "colab": {
      "provenance": [],
      "collapsed_sections": [],
      "toc_visible": true,
      "include_colab_link": true
    },
    "kernelspec": {
      "name": "python3",
      "display_name": "Python 3"
    },
    "language_info": {
      "name": "python"
    }
  },
  "cells": [
    {
      "cell_type": "markdown",
      "metadata": {
        "id": "view-in-github",
        "colab_type": "text"
      },
      "source": [
        "<a href=\"https://colab.research.google.com/github/DanieleCecca/ICON-Project/blob/main/ProgettoIcon.ipynb\" target=\"_parent\"><img src=\"https://colab.research.google.com/assets/colab-badge.svg\" alt=\"Open In Colab\"/></a>"
      ]
    },
    {
      "cell_type": "markdown",
      "source": [
        " # **Progetto ICON**"
      ],
      "metadata": {
        "id": "1_KRE1yZ0fX7"
      }
    },
    {
      "cell_type": "markdown",
      "source": [
        "## **Loading Data**\n"
      ],
      "metadata": {
        "id": "3r3IUYi20-C0"
      }
    },
    {
      "cell_type": "code",
      "source": [
        "import pandas as pd\n",
        "\n",
        "#dk2 database kepler2\n",
        "#dh  database phl \n",
        "dk2 = pd.read.csv(\"\")"
      ],
      "metadata": {
        "id": "qcwjO7Rb3P8_"
      },
      "execution_count": null,
      "outputs": []
    }
  ]
}